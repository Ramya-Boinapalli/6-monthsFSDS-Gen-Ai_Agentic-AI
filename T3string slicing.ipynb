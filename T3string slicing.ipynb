{
 "cells": [
  {
   "cell_type": "markdown",
   "id": "66b185c3-cb16-44eb-ab66-106d0c19f935",
   "metadata": {},
   "source": [
    "#String"
   ]
  },
  {
   "cell_type": "code",
   "execution_count": 3,
   "id": "3d3ea95b-e84c-4179-85bd-58b23a628b97",
   "metadata": {},
   "outputs": [
    {
     "data": {
      "text/plain": [
       "'hello python'"
      ]
     },
     "execution_count": 3,
     "metadata": {},
     "output_type": "execute_result"
    }
   ],
   "source": [
    "R='hello python'\n",
    "R"
   ]
  },
  {
   "cell_type": "code",
   "execution_count": 4,
   "id": "2389460c-b2d5-40e2-8bf1-c2547bb390ae",
   "metadata": {},
   "outputs": [
    {
     "data": {
      "text/plain": [
       "12"
      ]
     },
     "execution_count": 4,
     "metadata": {},
     "output_type": "execute_result"
    }
   ],
   "source": [
    "len(R) #the length odf the word will be printed with space given"
   ]
  },
  {
   "cell_type": "code",
   "execution_count": 5,
   "id": "e718ca34-c038-41bb-b44a-f61045c5394b",
   "metadata": {},
   "outputs": [
    {
     "data": {
      "text/plain": [
       "'hello python'"
      ]
     },
     "execution_count": 5,
     "metadata": {},
     "output_type": "execute_result"
    }
   ],
   "source": [
    "R"
   ]
  },
  {
   "cell_type": "code",
   "execution_count": 6,
   "id": "0c257b19-67af-4bfd-be90-c9f34c00d478",
   "metadata": {},
   "outputs": [
    {
     "data": {
      "text/plain": [
       "'h'"
      ]
     },
     "execution_count": 6,
     "metadata": {},
     "output_type": "execute_result"
    }
   ],
   "source": [
    "R[0] #string has indexes that system build in,i.e 'h' is 0,forward indexing"
   ]
  },
  {
   "cell_type": "code",
   "execution_count": 14,
   "id": "77de52a6-0e0a-482f-9267-05594f0a845e",
   "metadata": {},
   "outputs": [
    {
     "name": "stdout",
     "output_type": "stream",
     "text": [
      "ramya\n",
      "tikki\n",
      "chikki\n"
     ]
    }
   ],
   "source": [
    "my_list = ['ramya','tikki','chikki',]\n",
    "print(my_list[0]) # 'ramya'\n",
    "print(my_list[1]) \n",
    "print(my_list[2])\n",
    "           "
   ]
  },
  {
   "cell_type": "code",
   "execution_count": 7,
   "id": "57a77ced-806d-4efa-8cd5-893911fe2bce",
   "metadata": {},
   "outputs": [
    {
     "data": {
      "text/plain": [
       "'n'"
      ]
     },
     "execution_count": 7,
     "metadata": {},
     "output_type": "execute_result"
    }
   ],
   "source": [
    "R[-1] #backward indexing"
   ]
  },
  {
   "cell_type": "code",
   "execution_count": 16,
   "id": "fb506f09-1ad0-4f68-bf3b-a0c71cfeb259",
   "metadata": {},
   "outputs": [
    {
     "name": "stdout",
     "output_type": "stream",
     "text": [
      "baby3\n",
      "baby2\n",
      "baby1\n"
     ]
    }
   ],
   "source": [
    "my_list=['baby1', 'baby2','baby3']\n",
    "print(my_list[-1]) #last element will be printed\n",
    "print(my_list[-2]) #last second will be printed\n",
    "print(my_list[-3]) #last third will be printed"
   ]
  },
  {
   "cell_type": "code",
   "execution_count": 8,
   "id": "6d30dd91-8ca2-4353-905d-5527ac2f8a4b",
   "metadata": {},
   "outputs": [
    {
     "data": {
      "text/plain": [
       "'hello python'"
      ]
     },
     "execution_count": 8,
     "metadata": {},
     "output_type": "execute_result"
    }
   ],
   "source": [
    "R"
   ]
  },
  {
   "cell_type": "code",
   "execution_count": 9,
   "id": "8e6b276b-a62a-4d7a-beff-60b603af447f",
   "metadata": {},
   "outputs": [
    {
     "ename": "IndexError",
     "evalue": "string index out of range",
     "output_type": "error",
     "traceback": [
      "\u001b[1;31m---------------------------------------------------------------------------\u001b[0m",
      "\u001b[1;31mIndexError\u001b[0m                                Traceback (most recent call last)",
      "Cell \u001b[1;32mIn[9], line 1\u001b[0m\n\u001b[1;32m----> 1\u001b[0m R[\u001b[38;5;241m15\u001b[39m]\n",
      "\u001b[1;31mIndexError\u001b[0m: string index out of range"
     ]
    }
   ],
   "source": [
    "R[15] #the string has 12characters but given is15"
   ]
  },
  {
   "cell_type": "code",
   "execution_count": 10,
   "id": "e57d21b3-5e77-4fcc-873c-ae201518396c",
   "metadata": {},
   "outputs": [
    {
     "data": {
      "text/plain": [
       "'hello python'"
      ]
     },
     "execution_count": 10,
     "metadata": {},
     "output_type": "execute_result"
    }
   ],
   "source": [
    "R"
   ]
  },
  {
   "cell_type": "code",
   "execution_count": 12,
   "id": "c81b5378-127f-4161-b540-2ae74f5dfabd",
   "metadata": {},
   "outputs": [
    {
     "data": {
      "text/plain": [
       "'hello python'"
      ]
     },
     "execution_count": 12,
     "metadata": {},
     "output_type": "execute_result"
    }
   ],
   "source": [
    "R[:] #slicing operation remove &adding"
   ]
  },
  {
   "cell_type": "code",
   "execution_count": 17,
   "id": "c1b87cee-014f-459e-9b70-3bc70730da41",
   "metadata": {},
   "outputs": [
    {
     "data": {
      "text/plain": [
       "'hello'"
      ]
     },
     "execution_count": 17,
     "metadata": {},
     "output_type": "execute_result"
    }
   ],
   "source": [
    "R[0:5]"
   ]
  },
  {
   "cell_type": "code",
   "execution_count": 18,
   "id": "14da9d29-7ebe-4191-a36f-53d9a03c6f1f",
   "metadata": {},
   "outputs": [
    {
     "data": {
      "text/plain": [
       "'pyt'"
      ]
     },
     "execution_count": 18,
     "metadata": {},
     "output_type": "execute_result"
    }
   ],
   "source": [
    "R[6:9]"
   ]
  },
  {
   "cell_type": "code",
   "execution_count": 19,
   "id": "61cfe4d4-2064-446b-9b33-453f06181c2c",
   "metadata": {},
   "outputs": [
    {
     "data": {
      "text/plain": [
       "'hello python'"
      ]
     },
     "execution_count": 19,
     "metadata": {},
     "output_type": "execute_result"
    }
   ],
   "source": [
    "R"
   ]
  },
  {
   "cell_type": "code",
   "execution_count": 20,
   "id": "2f735398-f1d0-4319-9d35-046a468420c4",
   "metadata": {},
   "outputs": [
    {
     "data": {
      "text/plain": [
       "'ytho'"
      ]
     },
     "execution_count": 20,
     "metadata": {},
     "output_type": "execute_result"
    }
   ],
   "source": [
    "R[-5:-1] #reverse slicing"
   ]
  },
  {
   "cell_type": "code",
   "execution_count": 21,
   "id": "dc6f1211-f277-480c-a047-126e50c0d434",
   "metadata": {},
   "outputs": [
    {
     "data": {
      "text/plain": [
       "'hello python'"
      ]
     },
     "execution_count": 21,
     "metadata": {},
     "output_type": "execute_result"
    }
   ],
   "source": [
    "R"
   ]
  },
  {
   "cell_type": "code",
   "execution_count": 22,
   "id": "82833869-f396-451b-a074-bb703e626109",
   "metadata": {},
   "outputs": [
    {
     "data": {
      "text/plain": [
       "'llo python'"
      ]
     },
     "execution_count": 22,
     "metadata": {},
     "output_type": "execute_result"
    }
   ],
   "source": [
    "R[2:]"
   ]
  },
  {
   "cell_type": "code",
   "execution_count": 23,
   "id": "e122432f-1698-4bc2-a747-f3e30f0c0e6f",
   "metadata": {},
   "outputs": [
    {
     "data": {
      "text/plain": [
       "'hello '"
      ]
     },
     "execution_count": 23,
     "metadata": {},
     "output_type": "execute_result"
    }
   ],
   "source": [
    "R[:6]"
   ]
  },
  {
   "cell_type": "code",
   "execution_count": 24,
   "id": "5b98787c-8dff-459e-ba64-8d84e5fffba6",
   "metadata": {},
   "outputs": [
    {
     "data": {
      "text/plain": [
       "'hello python'"
      ]
     },
     "execution_count": 24,
     "metadata": {},
     "output_type": "execute_result"
    }
   ],
   "source": [
    "R"
   ]
  },
  {
   "cell_type": "code",
   "execution_count": 25,
   "id": "b86ba010-3ab4-4bd9-b35a-129857eb5cd2",
   "metadata": {},
   "outputs": [
    {
     "data": {
      "text/plain": [
       "'nohtyp olleh'"
      ]
     },
     "execution_count": 25,
     "metadata": {},
     "output_type": "execute_result"
    }
   ],
   "source": [
    "R[::-1] #::in reverse slicing is start and end step"
   ]
  },
  {
   "cell_type": "code",
   "execution_count": 26,
   "id": "29168635-712e-4b57-a35e-69290480d9b8",
   "metadata": {},
   "outputs": [
    {
     "data": {
      "text/plain": [
       "'hlph'"
      ]
     },
     "execution_count": 26,
     "metadata": {},
     "output_type": "execute_result"
    }
   ],
   "source": [
    "R[0:13:3]"
   ]
  },
  {
   "cell_type": "code",
   "execution_count": 27,
   "id": "dc5fb897-195e-4486-a517-0753cb553fb2",
   "metadata": {},
   "outputs": [
    {
     "data": {
      "text/plain": [
       "'hello python'"
      ]
     },
     "execution_count": 27,
     "metadata": {},
     "output_type": "execute_result"
    }
   ],
   "source": [
    "R"
   ]
  },
  {
   "cell_type": "code",
   "execution_count": 28,
   "id": "9209826b-3a02-4f99-9d74-fd1c4990c8e9",
   "metadata": {},
   "outputs": [
    {
     "data": {
      "text/plain": [
       "'hello python'"
      ]
     },
     "execution_count": 28,
     "metadata": {},
     "output_type": "execute_result"
    }
   ],
   "source": [
    "R"
   ]
  },
  {
   "cell_type": "code",
   "execution_count": 29,
   "id": "603920e7-b4ae-47b9-8b4e-dde4f70d1a9d",
   "metadata": {},
   "outputs": [
    {
     "data": {
      "text/plain": [
       "'RAMYA IS AN ASPIRANT'"
      ]
     },
     "execution_count": 29,
     "metadata": {},
     "output_type": "execute_result"
    }
   ],
   "source": [
    "R1='RAMYA IS AN ASPIRANT'\n",
    "R1"
   ]
  },
  {
   "cell_type": "code",
   "execution_count": null,
   "id": "7e1cec4a-e251-4196-a028-ddb3cdf94213",
   "metadata": {},
   "outputs": [],
   "source": []
  }
 ],
 "metadata": {
  "kernelspec": {
   "display_name": "Python [conda env:base] *",
   "language": "python",
   "name": "conda-base-py"
  },
  "language_info": {
   "codemirror_mode": {
    "name": "ipython",
    "version": 3
   },
   "file_extension": ".py",
   "mimetype": "text/x-python",
   "name": "python",
   "nbconvert_exporter": "python",
   "pygments_lexer": "ipython3",
   "version": "3.12.7"
  }
 },
 "nbformat": 4,
 "nbformat_minor": 5
}
