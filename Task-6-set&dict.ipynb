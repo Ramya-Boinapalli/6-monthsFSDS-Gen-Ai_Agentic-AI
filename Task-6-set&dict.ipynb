{
 "cells": [
  {
   "cell_type": "markdown",
   "id": "78ced3bd-ab91-4255-bb37-994094cd9b14",
   "metadata": {},
   "source": [
    "# sets"
   ]
  },
  {
   "cell_type": "code",
   "execution_count": 1,
   "id": "18e4b7b1-b6d5-4ea0-9b49-fe54bfd7fa68",
   "metadata": {},
   "outputs": [
    {
     "data": {
      "text/plain": [
       "{}"
      ]
     },
     "execution_count": 1,
     "metadata": {},
     "output_type": "execute_result"
    }
   ],
   "source": [
    "s = {} #set is unordered,unindexed\n",
    "s"
   ]
  },
  {
   "cell_type": "code",
   "execution_count": 2,
   "id": "65bcae83-468a-4528-8fa2-fc6ddce3f16c",
   "metadata": {},
   "outputs": [
    {
     "data": {
      "text/plain": [
       "dict"
      ]
     },
     "execution_count": 2,
     "metadata": {},
     "output_type": "execute_result"
    }
   ],
   "source": [
    "type(s)"
   ]
  },
  {
   "cell_type": "code",
   "execution_count": 3,
   "id": "24a4ec98-99d7-43cd-a2eb-85152062a7cd",
   "metadata": {},
   "outputs": [
    {
     "data": {
      "text/plain": [
       "set()"
      ]
     },
     "execution_count": 3,
     "metadata": {},
     "output_type": "execute_result"
    }
   ],
   "source": [
    "s1 = set()\n",
    "s1"
   ]
  },
  {
   "cell_type": "code",
   "execution_count": 4,
   "id": "9d2ccd25-b10a-4266-8073-f0fba919d25c",
   "metadata": {},
   "outputs": [
    {
     "data": {
      "text/plain": [
       "{25}"
      ]
     },
     "execution_count": 4,
     "metadata": {},
     "output_type": "execute_result"
    }
   ],
   "source": [
    "s1.add(25)\n",
    "s1"
   ]
  },
  {
   "cell_type": "code",
   "execution_count": 5,
   "id": "a743f180-9248-456a-a364-e6f13209fe9e",
   "metadata": {},
   "outputs": [
    {
     "ename": "TypeError",
     "evalue": "set.add() takes exactly one argument (2 given)",
     "output_type": "error",
     "traceback": [
      "\u001b[1;31m---------------------------------------------------------------------------\u001b[0m",
      "\u001b[1;31mTypeError\u001b[0m                                 Traceback (most recent call last)",
      "Cell \u001b[1;32mIn[5], line 1\u001b[0m\n\u001b[1;32m----> 1\u001b[0m s1\u001b[38;5;241m.\u001b[39madd(\u001b[38;5;241m25\u001b[39m,\u001b[38;5;241m60\u001b[39m)\n",
      "\u001b[1;31mTypeError\u001b[0m: set.add() takes exactly one argument (2 given)"
     ]
    }
   ],
   "source": [
    "s1.add(25,60)"
   ]
  },
  {
   "cell_type": "code",
   "execution_count": 6,
   "id": "ddd462b2-487d-47ea-b645-a67d346dc91f",
   "metadata": {},
   "outputs": [
    {
     "data": {
      "text/plain": [
       "{20, 25, 56, 100}"
      ]
     },
     "execution_count": 6,
     "metadata": {},
     "output_type": "execute_result"
    }
   ],
   "source": [
    "s1.add(20)\n",
    "s1.add(100)\n",
    "s1.add(56)\n",
    "s1"
   ]
  },
  {
   "cell_type": "code",
   "execution_count": 7,
   "id": "6f372007-dc66-4f6e-b020-4801bd1d75d0",
   "metadata": {},
   "outputs": [
    {
     "data": {
      "text/plain": [
       "{20, 25, 56, 100}"
      ]
     },
     "execution_count": 7,
     "metadata": {},
     "output_type": "execute_result"
    }
   ],
   "source": [
    "s1.add(20)\n",
    "s1"
   ]
  },
  {
   "cell_type": "code",
   "execution_count": 8,
   "id": "c91d1f0e-832c-4b3a-8979-60f22ac68087",
   "metadata": {},
   "outputs": [
    {
     "data": {
      "text/plain": [
       "{100, 300, 500}"
      ]
     },
     "execution_count": 8,
     "metadata": {},
     "output_type": "execute_result"
    }
   ],
   "source": [
    "ramyaset = {100,500,300} #set of numbers\n",
    "ramyaset"
   ]
  },
  {
   "cell_type": "code",
   "execution_count": 9,
   "id": "289d75c7-0c4e-4e27-baf8-26894a316f79",
   "metadata": {},
   "outputs": [
    {
     "data": {
      "text/plain": [
       "3"
      ]
     },
     "execution_count": 9,
     "metadata": {},
     "output_type": "execute_result"
    }
   ],
   "source": [
    "len(ramyaset) #length of numbers"
   ]
  },
  {
   "cell_type": "code",
   "execution_count": 10,
   "id": "33dddb1d-120b-4abf-9a45-bffbb3e0e91e",
   "metadata": {},
   "outputs": [
    {
     "data": {
      "text/plain": [
       "{100, 300, 500}"
      ]
     },
     "execution_count": 10,
     "metadata": {},
     "output_type": "execute_result"
    }
   ],
   "source": [
    "ramya_set={100,100,500,500,300,300}#Duplicate items are not allowed\n",
    "ramya_set"
   ]
  },
  {
   "cell_type": "code",
   "execution_count": 11,
   "id": "650d9788-87ff-4bc9-9701-c399f3c6d4f8",
   "metadata": {},
   "outputs": [
    {
     "data": {
      "text/plain": [
       "{7.34, 7.65, 8.65}"
      ]
     },
     "execution_count": 11,
     "metadata": {},
     "output_type": "execute_result"
    }
   ],
   "source": [
    "naset = {8.65,7.34,7.65}\n",
    "naset"
   ]
  },
  {
   "cell_type": "code",
   "execution_count": 12,
   "id": "1593313b-b166-4123-b220-8ae5a9c63019",
   "metadata": {},
   "outputs": [
    {
     "data": {
      "text/plain": [
       "{'jam', 'ram', 'shyam'}"
      ]
     },
     "execution_count": 12,
     "metadata": {},
     "output_type": "execute_result"
    }
   ],
   "source": [
    "set3 = {'ram','shyam','jam'} #set of strings\n",
    "set3"
   ]
  },
  {
   "cell_type": "code",
   "execution_count": 13,
   "id": "2a08fc76-4e32-4cb3-9651-b65c30a06c93",
   "metadata": {},
   "outputs": [
    {
     "data": {
      "text/plain": [
       "{(3, 4, 5), 11, 2, 'ramya'}"
      ]
     },
     "execution_count": 13,
     "metadata": {},
     "output_type": "execute_result"
    }
   ],
   "source": [
    "mixed={11,2,'ramya',(3,4,5)} #mixed of datatypes\n",
    "mixed"
   ]
  },
  {
   "cell_type": "code",
   "execution_count": 14,
   "id": "57a53dcc-b4ac-4c13-9cca-29ec464475fa",
   "metadata": {},
   "outputs": [
    {
     "ename": "TypeError",
     "evalue": "unhashable type: 'list'",
     "output_type": "error",
     "traceback": [
      "\u001b[1;31m---------------------------------------------------------------------------\u001b[0m",
      "\u001b[1;31mTypeError\u001b[0m                                 Traceback (most recent call last)",
      "Cell \u001b[1;32mIn[14], line 1\u001b[0m\n\u001b[1;32m----> 1\u001b[0m myset\u001b[38;5;241m=\u001b[39m{\u001b[38;5;241m1\u001b[39m,\u001b[38;5;241m2\u001b[39m,\u001b[38;5;124m'\u001b[39m\u001b[38;5;124mramya\u001b[39m\u001b[38;5;124m'\u001b[39m,[\u001b[38;5;241m66\u001b[39m,\u001b[38;5;241m47\u001b[39m,\u001b[38;5;241m89\u001b[39m]} \u001b[38;5;66;03m#set doesn't allow mutable items like list.\u001b[39;00m\n\u001b[0;32m      2\u001b[0m myset\n",
      "\u001b[1;31mTypeError\u001b[0m: unhashable type: 'list'"
     ]
    }
   ],
   "source": [
    "myset={1,2,'ramya',[66,47,89]} #set doesn't allow mutable items like list.\n",
    "myset"
   ]
  },
  {
   "cell_type": "markdown",
   "id": "915ecd0d-39d4-4ea6-8cf2-84116ebe9c82",
   "metadata": {},
   "source": [
    "# loop through set"
   ]
  },
  {
   "cell_type": "code",
   "execution_count": 15,
   "id": "eefcc840-4e07-4014-9056-ff7cb0d97678",
   "metadata": {},
   "outputs": [
    {
     "name": "stdout",
     "output_type": "stream",
     "text": [
      "two\n",
      "three\n",
      "one\n"
     ]
    }
   ],
   "source": [
    "myset = {'one','two','three'}\n",
    "for i in myset:\n",
    "    print(i)"
   ]
  },
  {
   "cell_type": "code",
   "execution_count": 16,
   "id": "6b5dcc29-2da1-4b04-8dea-ff1c597ef655",
   "metadata": {},
   "outputs": [
    {
     "name": "stdout",
     "output_type": "stream",
     "text": [
      "(0, 'two')\n",
      "(1, 'three')\n",
      "(2, 'one')\n"
     ]
    }
   ],
   "source": [
    "for i in enumerate(myset): #index\n",
    "    print(i)"
   ]
  },
  {
   "cell_type": "markdown",
   "id": "a8670ab1-2259-4861-b8dc-d36226c7b073",
   "metadata": {},
   "source": [
    "# Set Membership"
   ]
  },
  {
   "cell_type": "code",
   "execution_count": 17,
   "id": "24e1d299-aa24-430e-9404-b443b5db70ea",
   "metadata": {},
   "outputs": [
    {
     "data": {
      "text/plain": [
       "{'one', 'three', 'two'}"
      ]
     },
     "execution_count": 17,
     "metadata": {},
     "output_type": "execute_result"
    }
   ],
   "source": [
    "myset"
   ]
  },
  {
   "cell_type": "code",
   "execution_count": 18,
   "id": "a05e5652-ace2-4343-a9e2-a59dd9a24b22",
   "metadata": {},
   "outputs": [
    {
     "data": {
      "text/plain": [
       "True"
      ]
     },
     "execution_count": 18,
     "metadata": {},
     "output_type": "execute_result"
    }
   ],
   "source": [
    "'two' in myset"
   ]
  },
  {
   "cell_type": "code",
   "execution_count": 19,
   "id": "444bae22-ce44-473b-9a75-b5d6fffb3e39",
   "metadata": {},
   "outputs": [
    {
     "data": {
      "text/plain": [
       "False"
      ]
     },
     "execution_count": 19,
     "metadata": {},
     "output_type": "execute_result"
    }
   ],
   "source": [
    "'five' in myset"
   ]
  },
  {
   "cell_type": "code",
   "execution_count": 20,
   "id": "3b717531-5a62-4747-b518-3ef57dac8942",
   "metadata": {},
   "outputs": [
    {
     "name": "stdout",
     "output_type": "stream",
     "text": [
      "ten is not present in myset\n"
     ]
    }
   ],
   "source": [
    "if 'ten' in myset:\n",
    "    print('ten is present in myset')\n",
    "else:\n",
    "    print('ten is not present in myset')"
   ]
  },
  {
   "cell_type": "markdown",
   "id": "926e41f1-8d2a-49a9-876c-36b75e480d30",
   "metadata": {},
   "source": [
    "# Add & Remove items"
   ]
  },
  {
   "cell_type": "code",
   "execution_count": 21,
   "id": "4c1767e8-0c87-483f-a906-22a7ba381370",
   "metadata": {},
   "outputs": [
    {
     "data": {
      "text/plain": [
       "{'one', 'three', 'two'}"
      ]
     },
     "execution_count": 21,
     "metadata": {},
     "output_type": "execute_result"
    }
   ],
   "source": [
    "myset"
   ]
  },
  {
   "cell_type": "code",
   "execution_count": 22,
   "id": "70ac068f-7227-4959-aa56-2c4cdbe25bfd",
   "metadata": {},
   "outputs": [
    {
     "data": {
      "text/plain": [
       "{'four', 'one', 'three', 'two'}"
      ]
     },
     "execution_count": 22,
     "metadata": {},
     "output_type": "execute_result"
    }
   ],
   "source": [
    "myset.add ('four') #adding the value\n",
    "myset"
   ]
  },
  {
   "cell_type": "code",
   "execution_count": 23,
   "id": "3076d343-54c7-41e0-a4e7-57476c5f221e",
   "metadata": {},
   "outputs": [
    {
     "data": {
      "text/plain": [
       "{'five', 'four', 'nine', 'one', 'ten', 'three', 'two'}"
      ]
     },
     "execution_count": 23,
     "metadata": {},
     "output_type": "execute_result"
    }
   ],
   "source": [
    "myset.update(['ten','nine','five'])\n",
    "myset"
   ]
  },
  {
   "cell_type": "code",
   "execution_count": 24,
   "id": "fed7ce91-5d7b-4a82-bbfa-60d6ec2481bd",
   "metadata": {},
   "outputs": [
    {
     "data": {
      "text/plain": [
       "{'five', 'four', 'one', 'ten', 'three', 'two'}"
      ]
     },
     "execution_count": 24,
     "metadata": {},
     "output_type": "execute_result"
    }
   ],
   "source": [
    "myset.remove('nine')\n",
    "myset"
   ]
  },
  {
   "cell_type": "code",
   "execution_count": 25,
   "id": "a65e6f0a-a0fb-4a83-adfd-f28ff31820f8",
   "metadata": {},
   "outputs": [
    {
     "data": {
      "text/plain": [
       "{'five', 'four', 'one', 'three', 'two'}"
      ]
     },
     "execution_count": 25,
     "metadata": {},
     "output_type": "execute_result"
    }
   ],
   "source": [
    "myset.discard('ten')\n",
    "myset"
   ]
  },
  {
   "cell_type": "code",
   "execution_count": 26,
   "id": "a21d6047-efa7-4ec1-b77c-aea0b8e25aca",
   "metadata": {},
   "outputs": [],
   "source": [
    "myset.clear()\n"
   ]
  },
  {
   "cell_type": "code",
   "execution_count": 27,
   "id": "0e3343d5-d93b-42d7-8f55-a9706df4b1b5",
   "metadata": {},
   "outputs": [
    {
     "data": {
      "text/plain": [
       "set()"
      ]
     },
     "execution_count": 27,
     "metadata": {},
     "output_type": "execute_result"
    }
   ],
   "source": [
    "myset"
   ]
  },
  {
   "cell_type": "code",
   "execution_count": 28,
   "id": "55b025e6-47f1-4bc0-9bcb-d6c5ce2e1b40",
   "metadata": {},
   "outputs": [
    {
     "ename": "NameError",
     "evalue": "name 'myset' is not defined",
     "output_type": "error",
     "traceback": [
      "\u001b[1;31m---------------------------------------------------------------------------\u001b[0m",
      "\u001b[1;31mNameError\u001b[0m                                 Traceback (most recent call last)",
      "Cell \u001b[1;32mIn[28], line 2\u001b[0m\n\u001b[0;32m      1\u001b[0m \u001b[38;5;28;01mdel\u001b[39;00m myset\n\u001b[1;32m----> 2\u001b[0m myset\n",
      "\u001b[1;31mNameError\u001b[0m: name 'myset' is not defined"
     ]
    }
   ],
   "source": [
    "del myset\n",
    "myset"
   ]
  },
  {
   "cell_type": "markdown",
   "id": "9ee15499-da93-4d09-9356-ad1bbd2e9d8c",
   "metadata": {},
   "source": [
    "# Copy Set"
   ]
  },
  {
   "cell_type": "code",
   "execution_count": 2,
   "id": "8cacf872-54e8-475b-852c-44e32faf135a",
   "metadata": {},
   "outputs": [
    {
     "data": {
      "text/plain": [
       "{'five', 'one', 'six', 'three', 'two'}"
      ]
     },
     "execution_count": 2,
     "metadata": {},
     "output_type": "execute_result"
    }
   ],
   "source": [
    "myset={'one','two','three','five','six'}\n",
    "myset"
   ]
  },
  {
   "cell_type": "code",
   "execution_count": 4,
   "id": "af6a66ef-f42e-46f1-b605-8edc78cbd7b2",
   "metadata": {},
   "outputs": [
    {
     "data": {
      "text/plain": [
       "{'five', 'one', 'six', 'three', 'two'}"
      ]
     },
     "execution_count": 4,
     "metadata": {},
     "output_type": "execute_result"
    }
   ],
   "source": [
    "set1=myset.copy()\n",
    "set1"
   ]
  },
  {
   "cell_type": "code",
   "execution_count": 5,
   "id": "787c4855-a1ac-4dff-825b-81caaeac91f5",
   "metadata": {},
   "outputs": [
    {
     "data": {
      "text/plain": [
       "(2140841521248, 2140841524608)"
      ]
     },
     "execution_count": 5,
     "metadata": {},
     "output_type": "execute_result"
    }
   ],
   "source": [
    "id(myset), id(set1)"
   ]
  },
  {
   "cell_type": "code",
   "execution_count": 11,
   "id": "f17a6cf4-fbeb-4d2a-8872-7dad83bf774a",
   "metadata": {},
   "outputs": [
    {
     "ename": "NameError",
     "evalue": "name 'myset' is not defined",
     "output_type": "error",
     "traceback": [
      "\u001b[1;31m---------------------------------------------------------------------------\u001b[0m",
      "\u001b[1;31mNameError\u001b[0m                                 Traceback (most recent call last)",
      "Cell \u001b[1;32mIn[11], line 1\u001b[0m\n\u001b[1;32m----> 1\u001b[0m myset\u001b[38;5;241m=\u001b[39mmyset\u001b[38;5;241m.\u001b[39mcopy()\n\u001b[0;32m      2\u001b[0m myset\n",
      "\u001b[1;31mNameError\u001b[0m: name 'myset' is not defined"
     ]
    }
   ],
   "source": [
    "myset=myset.copy()\n",
    "myset"
   ]
  },
  {
   "cell_type": "markdown",
   "id": "def3a202-c6d3-4663-9e44-568e09d12b72",
   "metadata": {},
   "source": [
    "# Set Operation"
   ]
  },
  {
   "cell_type": "code",
   "execution_count": 6,
   "id": "5f694963-38c8-4dbf-8d25-93281b3036f3",
   "metadata": {},
   "outputs": [
    {
     "data": {
      "text/plain": [
       "{1, 2, 3, 4, 5, 9}"
      ]
     },
     "execution_count": 6,
     "metadata": {},
     "output_type": "execute_result"
    }
   ],
   "source": [
    "A={1,2,3} #union operation(all the values in a|b)\n",
    "B={1,4,3}\n",
    "C={5,9,3,5}\n",
    "A|B|C"
   ]
  },
  {
   "cell_type": "code",
   "execution_count": 7,
   "id": "d7db6669-5874-450e-9e98-4be816ebf733",
   "metadata": {},
   "outputs": [
    {
     "data": {
      "text/plain": [
       "{1, 2, 3, 4, 5, 9}"
      ]
     },
     "execution_count": 7,
     "metadata": {},
     "output_type": "execute_result"
    }
   ],
   "source": [
    "A.union(B,C)"
   ]
  },
  {
   "cell_type": "code",
   "execution_count": 9,
   "id": "e4320098-fb32-47a8-ad56-86fcf2f30ed9",
   "metadata": {},
   "outputs": [],
   "source": [
    "A.update(B,C)"
   ]
  },
  {
   "cell_type": "code",
   "execution_count": 10,
   "id": "4a88d572-90b3-4214-b79c-61f4907d26d8",
   "metadata": {},
   "outputs": [
    {
     "data": {
      "text/plain": [
       "{1, 2, 3, 4, 5, 9}"
      ]
     },
     "execution_count": 10,
     "metadata": {},
     "output_type": "execute_result"
    }
   ],
   "source": [
    "A"
   ]
  },
  {
   "cell_type": "markdown",
   "id": "2ec980dc-76de-4359-a385-aad7daf3923c",
   "metadata": {},
   "source": [
    "# Intersection"
   ]
  },
  {
   "cell_type": "code",
   "execution_count": 14,
   "id": "05e49fd1-411d-43de-99b6-541e7e13016d",
   "metadata": {},
   "outputs": [
    {
     "data": {
      "text/plain": [
       "{1, 6}"
      ]
     },
     "execution_count": 14,
     "metadata": {},
     "output_type": "execute_result"
    }
   ],
   "source": [
    "A={1,6,3,5}\n",
    "B={7,2,5,3}\n",
    "A-B"
   ]
  },
  {
   "cell_type": "code",
   "execution_count": 15,
   "id": "ed25bed5-0b08-4c2d-92b5-e2f5653359ed",
   "metadata": {},
   "outputs": [
    {
     "data": {
      "text/plain": [
       "{1, 6}"
      ]
     },
     "execution_count": 15,
     "metadata": {},
     "output_type": "execute_result"
    }
   ],
   "source": [
    "A.difference(B)"
   ]
  },
  {
   "cell_type": "code",
   "execution_count": 16,
   "id": "d62b9aba-c823-4560-96c4-e45f714a8d0b",
   "metadata": {},
   "outputs": [
    {
     "data": {
      "text/plain": [
       "{2, 7}"
      ]
     },
     "execution_count": 16,
     "metadata": {},
     "output_type": "execute_result"
    }
   ],
   "source": [
    "B - A"
   ]
  },
  {
   "cell_type": "markdown",
   "id": "3c3607a3-02e1-46e6-ac38-ad5d3b7c2b3f",
   "metadata": {},
   "source": [
    "# Symmetric difference"
   ]
  },
  {
   "cell_type": "code",
   "execution_count": 17,
   "id": "06bbad65-eff0-4f8c-9112-eb68b7c7ea69",
   "metadata": {},
   "outputs": [
    {
     "data": {
      "text/plain": [
       "{0, 4, 5, 6, 7, 9}"
      ]
     },
     "execution_count": 17,
     "metadata": {},
     "output_type": "execute_result"
    }
   ],
   "source": [
    "A={1,2,4,6,7}\n",
    "B={1,2,0,9,5}\n",
    "A^B"
   ]
  },
  {
   "cell_type": "code",
   "execution_count": 18,
   "id": "10c1854b-3cc9-405e-bf7e-a2442dc9e65c",
   "metadata": {},
   "outputs": [
    {
     "data": {
      "text/plain": [
       "{0, 4, 5, 6, 7, 9}"
      ]
     },
     "execution_count": 18,
     "metadata": {},
     "output_type": "execute_result"
    }
   ],
   "source": [
    "A.symmetric_difference(B)"
   ]
  },
  {
   "cell_type": "code",
   "execution_count": 21,
   "id": "29995bd8-4d0e-407f-8a30-85fd4aca496a",
   "metadata": {},
   "outputs": [],
   "source": [
    "A.symmetric_difference_update(B)"
   ]
  },
  {
   "cell_type": "code",
   "execution_count": 22,
   "id": "8b7036d5-3b67-455a-9a35-4de7c86c9757",
   "metadata": {},
   "outputs": [
    {
     "data": {
      "text/plain": [
       "{1, 2, 4, 6, 7}"
      ]
     },
     "execution_count": 22,
     "metadata": {},
     "output_type": "execute_result"
    }
   ],
   "source": [
    "A"
   ]
  },
  {
   "cell_type": "markdown",
   "id": "0894be7c-5e3e-417f-9c4c-9f584aa2ce26",
   "metadata": {},
   "source": [
    "# subset,super set,disjoint set"
   ]
  },
  {
   "cell_type": "code",
   "execution_count": 26,
   "id": "3426e581-3a2b-42b7-98e0-b02de0a9651b",
   "metadata": {},
   "outputs": [
    {
     "data": {
      "text/plain": [
       "False"
      ]
     },
     "execution_count": 26,
     "metadata": {},
     "output_type": "execute_result"
    }
   ],
   "source": [
    "a={1,6,5,9} #all elements of a are in b\n",
    "b={5,7,9,4}\n",
    "b.issubset(a)"
   ]
  },
  {
   "cell_type": "code",
   "execution_count": 33,
   "id": "bdd6f248-1e2b-445c-acc7-2adff2d643be",
   "metadata": {},
   "outputs": [
    {
     "data": {
      "text/plain": [
       "False"
      ]
     },
     "execution_count": 33,
     "metadata": {},
     "output_type": "execute_result"
    }
   ],
   "source": [
    "b.issuperset(a) #if it contains all elements of a"
   ]
  },
  {
   "cell_type": "code",
   "execution_count": 32,
   "id": "4b360991-d908-40ed-b09d-a8892b38f769",
   "metadata": {},
   "outputs": [
    {
     "data": {
      "text/plain": [
       "False"
      ]
     },
     "execution_count": 32,
     "metadata": {},
     "output_type": "execute_result"
    }
   ],
   "source": [
    "a.isdisjoint(b) #no elements are common"
   ]
  },
  {
   "cell_type": "code",
   "execution_count": 34,
   "id": "45d33e6c-7e2a-4884-85e0-1f840aea22ed",
   "metadata": {},
   "outputs": [
    {
     "data": {
      "text/plain": [
       "{1, 5, 6, 9}"
      ]
     },
     "execution_count": 34,
     "metadata": {},
     "output_type": "execute_result"
    }
   ],
   "source": [
    "a"
   ]
  },
  {
   "cell_type": "code",
   "execution_count": 35,
   "id": "bc74c004-29a9-4017-8cee-3cbdd58215b8",
   "metadata": {},
   "outputs": [
    {
     "data": {
      "text/plain": [
       "21"
      ]
     },
     "execution_count": 35,
     "metadata": {},
     "output_type": "execute_result"
    }
   ],
   "source": [
    "sum(a)"
   ]
  },
  {
   "cell_type": "code",
   "execution_count": 36,
   "id": "938f32b7-5452-41d5-9008-8b11c2e303f5",
   "metadata": {},
   "outputs": [
    {
     "data": {
      "text/plain": [
       "4"
      ]
     },
     "execution_count": 36,
     "metadata": {},
     "output_type": "execute_result"
    }
   ],
   "source": [
    "len(a)"
   ]
  },
  {
   "cell_type": "code",
   "execution_count": 37,
   "id": "ca467b04-a86e-4aa8-a392-294cd3677123",
   "metadata": {},
   "outputs": [
    {
     "data": {
      "text/plain": [
       "[(0, 1), (1, 5), (2, 6), (3, 9)]"
      ]
     },
     "execution_count": 37,
     "metadata": {},
     "output_type": "execute_result"
    }
   ],
   "source": [
    "list(enumerate(a)) #adds counter indexto each item in list"
   ]
  },
  {
   "cell_type": "code",
   "execution_count": 44,
   "id": "815e47b4-636a-4747-8fc9-ae7e04a05a62",
   "metadata": {},
   "outputs": [
    {
     "data": {
      "text/plain": [
       "[9, 6, 5, 1]"
      ]
     },
     "execution_count": 44,
     "metadata": {},
     "output_type": "execute_result"
    }
   ],
   "source": [
    "D = sorted(a,reverse=True)#sort-asending,descending order\n",
    "D"
   ]
  },
  {
   "cell_type": "code",
   "execution_count": 45,
   "id": "2d618607-6f27-4ebe-af0b-9494afe9d692",
   "metadata": {},
   "outputs": [
    {
     "data": {
      "text/plain": [
       "[1, 5, 6, 9]"
      ]
     },
     "execution_count": 45,
     "metadata": {},
     "output_type": "execute_result"
    }
   ],
   "source": [
    "sorted(D)"
   ]
  },
  {
   "cell_type": "markdown",
   "id": "20a98a1f-a127-4732-bab0-86f0988bfe9b",
   "metadata": {},
   "source": [
    "# Dictionary"
   ]
  },
  {
   "cell_type": "markdown",
   "id": "04447020-7d94-4a9f-b725-071a3a7f3697",
   "metadata": {},
   "source": [
    "#### create dictionary #is a collection of KEY-VALUES"
   ]
  },
  {
   "cell_type": "code",
   "execution_count": 49,
   "id": "052524a5-d2c9-4359-a718-b389456c5031",
   "metadata": {},
   "outputs": [
    {
     "data": {
      "text/plain": [
       "{}"
      ]
     },
     "execution_count": 49,
     "metadata": {},
     "output_type": "execute_result"
    }
   ],
   "source": [
    "my_dict={}\n",
    "my_dict"
   ]
  },
  {
   "cell_type": "code",
   "execution_count": 53,
   "id": "d7ddeeae-6c92-46c6-887f-169fbca26430",
   "metadata": {},
   "outputs": [
    {
     "data": {
      "text/plain": [
       "{1: 'one', 2: 'two', 3: 'three'}"
      ]
     },
     "execution_count": 53,
     "metadata": {},
     "output_type": "execute_result"
    }
   ],
   "source": [
    "my_dict={1:'one',2:'two',3:'three'}\n",
    "my_dict"
   ]
  },
  {
   "cell_type": "code",
   "execution_count": 55,
   "id": "1c793078-2a2d-4ea9-bb87-36c69057bacb",
   "metadata": {},
   "outputs": [
    {
     "data": {
      "text/plain": [
       "dict_keys([1, 2, 3])"
      ]
     },
     "execution_count": 55,
     "metadata": {},
     "output_type": "execute_result"
    }
   ],
   "source": [
    "my_dict.keys()"
   ]
  },
  {
   "cell_type": "code",
   "execution_count": 56,
   "id": "42ccb45c-2e68-4559-8a8d-aba763734d36",
   "metadata": {},
   "outputs": [
    {
     "data": {
      "text/plain": [
       "dict_values(['one', 'two', 'three'])"
      ]
     },
     "execution_count": 56,
     "metadata": {},
     "output_type": "execute_result"
    }
   ],
   "source": [
    "my_dict.values()"
   ]
  },
  {
   "cell_type": "code",
   "execution_count": 58,
   "id": "b895a602-12ec-43cb-ad7f-683094b104c7",
   "metadata": {},
   "outputs": [
    {
     "data": {
      "text/plain": [
       "dict_items([(1, 'one'), (2, 'two'), (3, 'three')])"
      ]
     },
     "execution_count": 58,
     "metadata": {},
     "output_type": "execute_result"
    }
   ],
   "source": [
    "my_dict.items()"
   ]
  },
  {
   "cell_type": "code",
   "execution_count": 12,
   "id": "9792ac4f-af09-4493-880f-ed3e2ea13826",
   "metadata": {},
   "outputs": [
    {
     "data": {
      "text/plain": [
       "{1: 'one', 2: 'two', 'A': ['rat', 'mat', 'cat']}"
      ]
     },
     "execution_count": 12,
     "metadata": {},
     "output_type": "execute_result"
    }
   ],
   "source": [
    "my_dict = {1: 'one',2:'two','A':['rat','mat','cat']}\n",
    "my_dict"
   ]
  },
  {
   "cell_type": "code",
   "execution_count": 4,
   "id": "632ed7a4-6f57-4718-b248-43df7827ef55",
   "metadata": {},
   "outputs": [
    {
     "data": {
      "text/plain": [
       "{1: 'one',\n",
       " 2: 'two',\n",
       " 'A': {'Name': 'RAMYA', 'Age': 20},\n",
       " 'B': ('JIM', 'jam', 'cream')}"
      ]
     },
     "execution_count": 4,
     "metadata": {},
     "output_type": "execute_result"
    }
   ],
   "source": [
    "my_dict={1:'one', 2:'two', 'A':{'Name':'RAMYA','Age':20}, 'B':('JIM','jam','cream')}\n",
    "my_dict"
   ]
  },
  {
   "cell_type": "code",
   "execution_count": 1,
   "id": "5eb78a2b-13a2-4800-ad91-b21a101c04c8",
   "metadata": {},
   "outputs": [
    {
     "data": {
      "text/plain": [
       "{'boil': None, 'in': None, 'egg': None, 'water': None}"
      ]
     },
     "execution_count": 1,
     "metadata": {},
     "output_type": "execute_result"
    }
   ],
   "source": [
    "keys={'egg','boil','in','water'}\n",
    "mydict1=dict.fromkeys(keys)\n",
    "mydict1"
   ]
  },
  {
   "cell_type": "code",
   "execution_count": 6,
   "id": "9f71768a-39c0-4db0-b2ea-2d53c8780087",
   "metadata": {},
   "outputs": [
    {
     "data": {
      "text/plain": [
       "{'water': [14, 20], 'egg': [14, 20], 'boil': [14, 20], 'in': [14, 20]}"
      ]
     },
     "execution_count": 6,
     "metadata": {},
     "output_type": "execute_result"
    }
   ],
   "source": [
    "keys={'egg','boil','in','water'}\n",
    "values=[14,20]\n",
    "mydict1=dict.fromkeys(keys,values)\n",
    "mydict1"
   ]
  },
  {
   "cell_type": "code",
   "execution_count": 2,
   "id": "9d9e5221-7662-4cd7-ac11-3d1879c0fd7e",
   "metadata": {},
   "outputs": [
    {
     "data": {
      "text/plain": [
       "{'water': [14, 29, 400],\n",
       " 'egg': [14, 29, 400],\n",
       " 'boil': [14, 29, 400],\n",
       " 'in': [14, 29, 400]}"
      ]
     },
     "execution_count": 2,
     "metadata": {},
     "output_type": "execute_result"
    }
   ],
   "source": [
    "keys={'egg','boil','in','water'}\n",
    "values=[14,29,400]\n",
    "mydict1=dict.fromkeys(keys,values)\n",
    "mydict1"
   ]
  },
  {
   "cell_type": "code",
   "execution_count": 8,
   "id": "032fca81-65e0-4f65-8307-08f75b7528e1",
   "metadata": {},
   "outputs": [
    {
     "data": {
      "text/plain": [
       "{'water': [14, 20, 40],\n",
       " 'egg': [14, 20, 40],\n",
       " 'boil': [14, 20, 40],\n",
       " 'in': [14, 20, 40]}"
      ]
     },
     "execution_count": 8,
     "metadata": {},
     "output_type": "execute_result"
    }
   ],
   "source": [
    "values.append(40)\n",
    "mydict1"
   ]
  },
  {
   "cell_type": "markdown",
   "id": "d8b6d018-82b5-46f3-9e0f-bdb2ca72abb3",
   "metadata": {},
   "source": [
    "# Accessing Items"
   ]
  },
  {
   "cell_type": "code",
   "execution_count": 10,
   "id": "85a97538-c1c9-4561-b81e-4b1ca79628a1",
   "metadata": {},
   "outputs": [
    {
     "data": {
      "text/plain": [
       "{1: 'one', 2: 'two', 3: 'three'}"
      ]
     },
     "execution_count": 10,
     "metadata": {},
     "output_type": "execute_result"
    }
   ],
   "source": [
    "my_dict={1:'one',2:'two',3:'three'}\n",
    "my_dict"
   ]
  },
  {
   "cell_type": "code",
   "execution_count": 11,
   "id": "a828bbfc-79fa-4f7f-9765-983913cf8285",
   "metadata": {},
   "outputs": [
    {
     "data": {
      "text/plain": [
       "'one'"
      ]
     },
     "execution_count": 11,
     "metadata": {},
     "output_type": "execute_result"
    }
   ],
   "source": [
    "my_dict={1:'one',2:'two',3:'three'}\n",
    "my_dict[1]"
   ]
  },
  {
   "cell_type": "code",
   "execution_count": 23,
   "id": "824ef4ca-4c28-434d-82c3-8813affcc21a",
   "metadata": {},
   "outputs": [
    {
     "data": {
      "text/plain": [
       "{'Name': 'RAMYA', 'Age': 20, 'goal': 'get job'}"
      ]
     },
     "execution_count": 23,
     "metadata": {},
     "output_type": "execute_result"
    }
   ],
   "source": [
    "my_dict = {'Name': 'RAMYA','Age': 20, 'goal' : 'get job'}\n",
    "my_dict"
   ]
  },
  {
   "cell_type": "code",
   "execution_count": 25,
   "id": "f4d6907e-206d-4ca5-9e2a-64b7c22ee059",
   "metadata": {},
   "outputs": [
    {
     "data": {
      "text/plain": [
       "'RAMYA'"
      ]
     },
     "execution_count": 25,
     "metadata": {},
     "output_type": "execute_result"
    }
   ],
   "source": [
    "my_dict['Name']"
   ]
  },
  {
   "cell_type": "code",
   "execution_count": 26,
   "id": "0ae4c88c-b17f-4295-b515-7a6ace80ab02",
   "metadata": {},
   "outputs": [
    {
     "data": {
      "text/plain": [
       "'name'"
      ]
     },
     "execution_count": 26,
     "metadata": {},
     "output_type": "execute_result"
    }
   ],
   "source": [
    "my_dict = 'name'\n",
    "my_dict"
   ]
  },
  {
   "cell_type": "code",
   "execution_count": 27,
   "id": "43153a10-b906-440f-9911-0e0ad883004b",
   "metadata": {},
   "outputs": [
    {
     "data": {
      "text/plain": [
       "{'Name': 'RAMYA', 'Age': 20, 'goal': 'get job'}"
      ]
     },
     "execution_count": 27,
     "metadata": {},
     "output_type": "execute_result"
    }
   ],
   "source": [
    "my_dict = {'Name': 'RAMYA','Age': 20, 'goal' : 'get job'}\n",
    "my_dict"
   ]
  },
  {
   "cell_type": "code",
   "execution_count": 29,
   "id": "6f82e2d3-bbfc-447c-ab7c-f0cb7eaa09bc",
   "metadata": {},
   "outputs": [
    {
     "data": {
      "text/plain": [
       "'get job'"
      ]
     },
     "execution_count": 29,
     "metadata": {},
     "output_type": "execute_result"
    }
   ],
   "source": [
    "my_dict['goal']"
   ]
  },
  {
   "cell_type": "markdown",
   "id": "0957034c-3132-464f-ba0c-a157782914dc",
   "metadata": {},
   "source": [
    "# Add,remove & change items"
   ]
  },
  {
   "cell_type": "code",
   "execution_count": 15,
   "id": "ec68d1cc-ad09-4cf9-8f49-5d7c838bc95c",
   "metadata": {},
   "outputs": [
    {
     "data": {
      "text/plain": [
       "{'history': 'ancient,medieval,modern',\n",
       " 'polity': 'constitution',\n",
       " 'economy': 'money',\n",
       " 'geo': 'earth'}"
      ]
     },
     "execution_count": 15,
     "metadata": {},
     "output_type": "execute_result"
    }
   ],
   "source": [
    "my_dict = {'history':'ancient,medieval,modern','polity':'constitution','economy':'money','geo':'earth' }\n",
    "my_dict"
   ]
  },
  {
   "cell_type": "code",
   "execution_count": 9,
   "id": "d3cee4cd-e626-4876-ac17-3e929bc35912",
   "metadata": {},
   "outputs": [
    {
     "data": {
      "text/plain": [
       "{'history': 'ancient,medieval,modern',\n",
       " 'polity': 'constitution',\n",
       " 'economy': 'money',\n",
       " 'geo': 'atm'}"
      ]
     },
     "execution_count": 9,
     "metadata": {},
     "output_type": "execute_result"
    }
   ],
   "source": [
    "my_dict['geo'] = 'atm' #adding new item in place of old\n",
    "my_dict"
   ]
  },
  {
   "cell_type": "code",
   "execution_count": 10,
   "id": "61d3a6a1-4146-47d5-8738-2ba678d2a24b",
   "metadata": {},
   "outputs": [
    {
     "data": {
      "text/plain": [
       "{'history': 'ancient,medieval,modern',\n",
       " 'polity': 'party',\n",
       " 'economy': 'money',\n",
       " 'geo': 'atm'}"
      ]
     },
     "execution_count": 10,
     "metadata": {},
     "output_type": "execute_result"
    }
   ],
   "source": [
    "dict1 = {'polity': 'party'}\n",
    "my_dict.update(dict1)\n",
    "my_dict"
   ]
  },
  {
   "cell_type": "code",
   "execution_count": 11,
   "id": "e76cf45a-8846-4c30-8d54-37c57323efa5",
   "metadata": {},
   "outputs": [
    {
     "data": {
      "text/plain": [
       "{'history': 'ancient,medieval,modern',\n",
       " 'polity': 'party',\n",
       " 'economy': 'money',\n",
       " 'geo': 'atm'}"
      ]
     },
     "execution_count": 11,
     "metadata": {},
     "output_type": "execute_result"
    }
   ],
   "source": [
    "my_dict['economy'] ='money'\n",
    "my_dict"
   ]
  },
  {
   "cell_type": "code",
   "execution_count": 12,
   "id": "f2003a4a-69d7-4133-9a2c-a1887a8d094c",
   "metadata": {},
   "outputs": [
    {
     "data": {
      "text/plain": [
       "{'history': 'ancient,medieval,modern', 'polity': 'party', 'geo': 'atm'}"
      ]
     },
     "execution_count": 12,
     "metadata": {},
     "output_type": "execute_result"
    }
   ],
   "source": [
    "my_dict.pop('economy')\n",
    "my_dict"
   ]
  },
  {
   "cell_type": "code",
   "execution_count": 22,
   "id": "fc43f2b7-c55c-43af-80a5-04033989af19",
   "metadata": {},
   "outputs": [
    {
     "data": {
      "text/plain": [
       "{'history': 'ancient,medieval,modern'}"
      ]
     },
     "execution_count": 22,
     "metadata": {},
     "output_type": "execute_result"
    }
   ],
   "source": [
    "my_dict.popitem()\n",
    "my_dict"
   ]
  },
  {
   "cell_type": "code",
   "execution_count": 20,
   "id": "be104a21-10ac-4242-9acc-3e566b584919",
   "metadata": {},
   "outputs": [
    {
     "data": {
      "text/plain": [
       "{'history': 'ancient,medieval,modern', 'polity': 'constitution'}"
      ]
     },
     "execution_count": 20,
     "metadata": {},
     "output_type": "execute_result"
    }
   ],
   "source": [
    "del[my_dict['economy']]\n",
    "my_dict\n"
   ]
  },
  {
   "cell_type": "markdown",
   "id": "7874e772-7e29-4957-a715-f705c3252898",
   "metadata": {},
   "source": [
    "# copy Dictionary"
   ]
  },
  {
   "cell_type": "code",
   "execution_count": 1,
   "id": "c770c505-8641-4c46-9c84-7f80786322a7",
   "metadata": {},
   "outputs": [],
   "source": [
    "mydict = {'Name': 'RAMYA','Age':25,'role':'python developer'}"
   ]
  },
  {
   "cell_type": "code",
   "execution_count": 2,
   "id": "f633c2f9-b450-49d0-acc8-318f8b363562",
   "metadata": {},
   "outputs": [
    {
     "data": {
      "text/plain": [
       "{'Name': 'RAMYA', 'Age': 25, 'role': 'python developer'}"
      ]
     },
     "execution_count": 2,
     "metadata": {},
     "output_type": "execute_result"
    }
   ],
   "source": [
    "mydict"
   ]
  },
  {
   "cell_type": "code",
   "execution_count": 3,
   "id": "a943c6f9-97e9-4604-8747-1b77c7581b9e",
   "metadata": {},
   "outputs": [],
   "source": [
    "mydict1 = mydict"
   ]
  },
  {
   "cell_type": "code",
   "execution_count": 6,
   "id": "31173e3e-4d6b-4ea1-8c33-27107928681c",
   "metadata": {},
   "outputs": [
    {
     "data": {
      "text/plain": [
       "(1259345671040, 1259345671040)"
      ]
     },
     "execution_count": 6,
     "metadata": {},
     "output_type": "execute_result"
    }
   ],
   "source": [
    "id(mydict), id(mydict1)"
   ]
  },
  {
   "cell_type": "code",
   "execution_count": 7,
   "id": "c19bcd98-6a22-4e29-a970-3af6d9743b4e",
   "metadata": {},
   "outputs": [
    {
     "data": {
      "text/plain": [
       "{'Name': 'RAMYA', 'Age': 25, 'role': 'python developer'}"
      ]
     },
     "execution_count": 7,
     "metadata": {},
     "output_type": "execute_result"
    }
   ],
   "source": [
    "mydict2=mydict.copy()\n",
    "mydict2"
   ]
  },
  {
   "cell_type": "code",
   "execution_count": 11,
   "id": "c1789cb9-2729-4963-a1d7-25c06c318798",
   "metadata": {},
   "outputs": [
    {
     "data": {
      "text/plain": [
       "{'Name': 'RAMYA', 'Age': 25, 'role': 'data analyst'}"
      ]
     },
     "execution_count": 11,
     "metadata": {},
     "output_type": "execute_result"
    }
   ],
   "source": [
    "mydict ['role'] = 'data analyst'\n",
    "mydict"
   ]
  },
  {
   "cell_type": "code",
   "execution_count": 12,
   "id": "6737718a-8112-44b8-b239-b3c2222e9e83",
   "metadata": {},
   "outputs": [
    {
     "data": {
      "text/plain": [
       "{'Name': 'RAMYA', 'Age': 25, 'role': 'data analyst'}"
      ]
     },
     "execution_count": 12,
     "metadata": {},
     "output_type": "execute_result"
    }
   ],
   "source": [
    "mydict1"
   ]
  },
  {
   "cell_type": "code",
   "execution_count": 13,
   "id": "bdcada01-2a11-41b4-a6bf-8ddd09545790",
   "metadata": {},
   "outputs": [
    {
     "data": {
      "text/plain": [
       "{'Name': 'RAMYA', 'Age': 25, 'role': 'python developer'}"
      ]
     },
     "execution_count": 13,
     "metadata": {},
     "output_type": "execute_result"
    }
   ],
   "source": [
    "mydict2"
   ]
  },
  {
   "cell_type": "markdown",
   "id": "7fffbdf5-bcf6-41ac-8964-d28cb29a1afe",
   "metadata": {},
   "source": [
    "# Loop through a Dictionary"
   ]
  },
  {
   "cell_type": "code",
   "execution_count": 18,
   "id": "8b7ec8bc-ade0-436f-89ba-2c24007a2f61",
   "metadata": {},
   "outputs": [
    {
     "data": {
      "text/plain": [
       "{'Name': 'RAMYA BOINAPALLI',\n",
       " 'working': 'no',\n",
       " 'age': '25',\n",
       " 'address': 'suryapet',\n",
       " 'ph.no': '1234567891',\n",
       " 'dob': '5-8-2000'}"
      ]
     },
     "execution_count": 18,
     "metadata": {},
     "output_type": "execute_result"
    }
   ],
   "source": [
    "enhlishdict = {'Name':'RAMYA BOINAPALLI','working':'no','age':25,'address':'suryapet','ph.no':1234567891,'dob':5-8-2000}\n",
    "englishdict"
   ]
  },
  {
   "cell_type": "code",
   "execution_count": 19,
   "id": "36cb5bf9-17d2-4c7e-be4b-89a210bd8c8a",
   "metadata": {},
   "outputs": [
    {
     "name": "stdout",
     "output_type": "stream",
     "text": [
      "Name : RAMYA BOINAPALLI\n",
      "working : no\n",
      "age : 25\n",
      "address : suryapet\n",
      "ph.no : 1234567891\n",
      "dob : 5-8-2000\n"
     ]
    }
   ],
   "source": [
    "for i in englishdict:\n",
    "    print(i,':' , englishdict[i])"
   ]
  },
  {
   "cell_type": "code",
   "execution_count": 20,
   "id": "6984421d-844c-4c13-808c-b4697ac02111",
   "metadata": {},
   "outputs": [
    {
     "name": "stdout",
     "output_type": "stream",
     "text": [
      "RAMYA BOINAPALLI\n",
      "no\n",
      "25\n",
      "suryapet\n",
      "1234567891\n",
      "5-8-2000\n"
     ]
    }
   ],
   "source": [
    "for i in englishdict:\n",
    "    print(englishdict[i])"
   ]
  },
  {
   "cell_type": "markdown",
   "id": "0264fce8-4258-4d35-9e38-497073028fcd",
   "metadata": {},
   "source": [
    "# Dictionary Membership"
   ]
  },
  {
   "cell_type": "code",
   "execution_count": 21,
   "id": "a39c8399-d459-4fbc-a54d-352d1b1df0a8",
   "metadata": {},
   "outputs": [
    {
     "data": {
      "text/plain": [
       "{'name': 'samsung', 'tenure': 8, 'model': 2000, 'made in': 'india'}"
      ]
     },
     "execution_count": 21,
     "metadata": {},
     "output_type": "execute_result"
    }
   ],
   "source": [
    "mydict = {'name':'samsung','tenure':8,'model':2000,'made in':'india'}\n",
    "mydict #if a key exists in a dictionary using the keywords in or not in."
   ]
  },
  {
   "cell_type": "code",
   "execution_count": 22,
   "id": "8a8854b3-b581-42d4-81c2-6fe561d77f88",
   "metadata": {},
   "outputs": [
    {
     "data": {
      "text/plain": [
       "True"
      ]
     },
     "execution_count": 22,
     "metadata": {},
     "output_type": "execute_result"
    }
   ],
   "source": [
    "'tenure' in mydict"
   ]
  },
  {
   "cell_type": "code",
   "execution_count": 23,
   "id": "8a61d065-83a5-480f-afb0-8f8b4da0a155",
   "metadata": {},
   "outputs": [
    {
     "data": {
      "text/plain": [
       "False"
      ]
     },
     "execution_count": 23,
     "metadata": {},
     "output_type": "execute_result"
    }
   ],
   "source": [
    "8 in mydict"
   ]
  },
  {
   "cell_type": "markdown",
   "id": "4952b7fb-6cf0-4a92-a381-dab2715e259c",
   "metadata": {},
   "source": [
    "# All/Any"
   ]
  },
  {
   "cell_type": "code",
   "execution_count": 28,
   "id": "ff99609e-c287-4a3b-b67f-80219a1281f8",
   "metadata": {},
   "outputs": [
    {
     "data": {
      "text/plain": [
       "{'name': 'samsung', 'tenure': 8, 'model': 2000, 'made in': 'india'}"
      ]
     },
     "execution_count": 28,
     "metadata": {},
     "output_type": "execute_result"
    }
   ],
   "source": [
    "mydict "
   ]
  },
  {
   "cell_type": "code",
   "execution_count": 29,
   "id": "2c70dadd-1f6c-4a10-a6a1-64100bea788d",
   "metadata": {},
   "outputs": [
    {
     "data": {
      "text/plain": [
       "True"
      ]
     },
     "execution_count": 29,
     "metadata": {},
     "output_type": "execute_result"
    }
   ],
   "source": [
    "all(mydict) # Returns True only if all elements are True"
   ]
  },
  {
   "cell_type": "code",
   "execution_count": 30,
   "id": "5c63bf37-16aa-48ff-b614-589a1b43e34a",
   "metadata": {},
   "outputs": [
    {
     "data": {
      "text/plain": [
       "True"
      ]
     },
     "execution_count": 30,
     "metadata": {},
     "output_type": "execute_result"
    }
   ],
   "source": [
    "any('model') #Returns True if at least one element is True"
   ]
  },
  {
   "cell_type": "code",
   "execution_count": null,
   "id": "8cb1613a-13e6-4194-a52b-44d35c5f7561",
   "metadata": {},
   "outputs": [],
   "source": []
  }
 ],
 "metadata": {
  "kernelspec": {
   "display_name": "Python [conda env:base] *",
   "language": "python",
   "name": "conda-base-py"
  },
  "language_info": {
   "codemirror_mode": {
    "name": "ipython",
    "version": 3
   },
   "file_extension": ".py",
   "mimetype": "text/x-python",
   "name": "python",
   "nbconvert_exporter": "python",
   "pygments_lexer": "ipython3",
   "version": "3.12.7"
  }
 },
 "nbformat": 4,
 "nbformat_minor": 5
}
