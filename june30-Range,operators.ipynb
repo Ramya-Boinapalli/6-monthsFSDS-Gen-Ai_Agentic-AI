{
 "cells": [
  {
   "cell_type": "markdown",
   "id": "7867992c-b216-4e78-af1d-8f6b02c8b91c",
   "metadata": {},
   "source": [
    "# RANGE #####to generate a sequence of numbers. It’s commonly used in loops"
   ]
  },
  {
   "cell_type": "code",
   "execution_count": 1,
   "id": "f7552446-6f35-4c71-bf0a-1719b160c315",
   "metadata": {},
   "outputs": [
    {
     "data": {
      "text/plain": [
       "range(0, 6)"
      ]
     },
     "execution_count": 1,
     "metadata": {},
     "output_type": "execute_result"
    }
   ],
   "source": [
    "r=range(6)\n",
    "r"
   ]
  },
  {
   "cell_type": "code",
   "execution_count": 2,
   "id": "5b537553-2fb6-408d-a63f-f9c088e7caae",
   "metadata": {},
   "outputs": [
    {
     "data": {
      "text/plain": [
       "range(0, 20)"
      ]
     },
     "execution_count": 2,
     "metadata": {},
     "output_type": "execute_result"
    }
   ],
   "source": [
    "r1=range(20)\n",
    "r1"
   ]
  },
  {
   "cell_type": "code",
   "execution_count": 5,
   "id": "ba0c932e-6049-446e-90d9-407d635435f9",
   "metadata": {},
   "outputs": [
    {
     "data": {
      "text/plain": [
       "[5, 6, 7, 8, 9]"
      ]
     },
     "execution_count": 5,
     "metadata": {},
     "output_type": "execute_result"
    }
   ],
   "source": [
    "list(range(5,10))"
   ]
  },
  {
   "cell_type": "code",
   "execution_count": 4,
   "id": "491b9c23-0a28-428a-add3-ed1e91408ece",
   "metadata": {},
   "outputs": [
    {
     "data": {
      "text/plain": [
       "[0, 1, 2]"
      ]
     },
     "execution_count": 4,
     "metadata": {},
     "output_type": "execute_result"
    }
   ],
   "source": [
    "r2=list(range(10))\n",
    "r2\n",
    "r_=list(range(3))\n",
    "r_"
   ]
  },
  {
   "cell_type": "code",
   "execution_count": 6,
   "id": "5c241ed9-03a5-469d-a84d-959d4ef37f35",
   "metadata": {},
   "outputs": [
    {
     "data": {
      "text/plain": [
       "[100]"
      ]
     },
     "execution_count": 6,
     "metadata": {},
     "output_type": "execute_result"
    }
   ],
   "source": [
    "list(range(100,400,600))"
   ]
  },
  {
   "cell_type": "code",
   "execution_count": 7,
   "id": "327cee97-a84a-49e5-8945-ecee35983a76",
   "metadata": {},
   "outputs": [
    {
     "ename": "TypeError",
     "evalue": "range expected at most 3 arguments, got 4",
     "output_type": "error",
     "traceback": [
      "\u001b[1;31m---------------------------------------------------------------------------\u001b[0m",
      "\u001b[1;31mTypeError\u001b[0m                                 Traceback (most recent call last)",
      "Cell \u001b[1;32mIn[7], line 1\u001b[0m\n\u001b[1;32m----> 1\u001b[0m \u001b[38;5;28mlist\u001b[39m(\u001b[38;5;28mrange\u001b[39m(\u001b[38;5;241m11\u001b[39m,\u001b[38;5;241m23\u001b[39m,\u001b[38;5;241m23\u001b[39m,\u001b[38;5;241m24\u001b[39m,))\n",
      "\u001b[1;31mTypeError\u001b[0m: range expected at most 3 arguments, got 4"
     ]
    }
   ],
   "source": [
    "list(range(11,23,23,24,)) #range can pass only 3 arguments"
   ]
  },
  {
   "cell_type": "code",
   "execution_count": 8,
   "id": "fd1559be-c89c-4c6a-bfcf-8944fbf376c5",
   "metadata": {},
   "outputs": [
    {
     "data": {
      "text/plain": [
       "range(0, 15)"
      ]
     },
     "execution_count": 8,
     "metadata": {},
     "output_type": "execute_result"
    }
   ],
   "source": [
    "r=range(15)\n",
    "r"
   ]
  },
  {
   "cell_type": "code",
   "execution_count": 9,
   "id": "13fd7767-945f-42ad-aeb3-b54dc8eb637f",
   "metadata": {},
   "outputs": [
    {
     "data": {
      "text/plain": [
       "[0, 1, 2, 3, 4, 5, 6, 7, 8, 9, 10, 11, 12, 13, 14]"
      ]
     },
     "execution_count": 9,
     "metadata": {},
     "output_type": "execute_result"
    }
   ],
   "source": [
    "list(r)"
   ]
  },
  {
   "cell_type": "code",
   "execution_count": 10,
   "id": "b5889252-6c3e-4672-9c50-52f66fb87622",
   "metadata": {},
   "outputs": [
    {
     "name": "stdout",
     "output_type": "stream",
     "text": [
      "is there\n",
      "is there\n",
      "is there\n",
      "is there\n",
      "is there\n",
      "is there\n",
      "is there\n",
      "is there\n",
      "is there\n",
      "is there\n",
      "is there\n",
      "is there\n",
      "is there\n",
      "is there\n",
      "is there\n"
     ]
    }
   ],
   "source": [
    "for i in r:\n",
    "    print('is there')"
   ]
  },
  {
   "cell_type": "code",
   "execution_count": 14,
   "id": "d57c78ad-d922-4907-bace-61f399a285e8",
   "metadata": {},
   "outputs": [
    {
     "data": {
      "text/plain": [
       "range(12, 24)"
      ]
     },
     "execution_count": 14,
     "metadata": {},
     "output_type": "execute_result"
    }
   ],
   "source": [
    "s1=range(12,24)\n",
    "s1"
   ]
  },
  {
   "cell_type": "code",
   "execution_count": 16,
   "id": "e674d4d5-a960-4642-8709-ff93121985a8",
   "metadata": {},
   "outputs": [
    {
     "name": "stdout",
     "output_type": "stream",
     "text": [
      "12\n",
      "13\n",
      "14\n",
      "15\n",
      "16\n",
      "17\n",
      "18\n",
      "19\n",
      "20\n",
      "21\n",
      "22\n",
      "23\n"
     ]
    }
   ],
   "source": [
    "for i in s1:\n",
    "    print(i)"
   ]
  },
  {
   "cell_type": "code",
   "execution_count": 19,
   "id": "50b08c04-ca25-4583-a63f-625ce27dfcc0",
   "metadata": {},
   "outputs": [
    {
     "data": {
      "text/plain": [
       "range(0, 10)"
      ]
     },
     "execution_count": 19,
     "metadata": {},
     "output_type": "execute_result"
    }
   ],
   "source": [
    "range(0,10)"
   ]
  },
  {
   "cell_type": "raw",
   "id": "143956ce-0695-4597-a6af-e71f979abdcd",
   "metadata": {},
   "source": [
    "r[9]"
   ]
  },
  {
   "cell_type": "code",
   "execution_count": 20,
   "id": "97bfe71d-ae74-4e11-8956-5911aa284bef",
   "metadata": {},
   "outputs": [
    {
     "data": {
      "text/plain": [
       "0"
      ]
     },
     "execution_count": 20,
     "metadata": {},
     "output_type": "execute_result"
    }
   ],
   "source": [
    "r[0]"
   ]
  },
  {
   "cell_type": "markdown",
   "id": "96bea1c4-036e-4c22-922d-933aefb6ad8f",
   "metadata": {},
   "source": [
    "##### passing two arguments"
   ]
  },
  {
   "cell_type": "code",
   "execution_count": 21,
   "id": "d4a75480-e7e3-400c-8999-6dd43f70a14c",
   "metadata": {},
   "outputs": [
    {
     "data": {
      "text/plain": [
       "range(0, 100)"
      ]
     },
     "execution_count": 21,
     "metadata": {},
     "output_type": "execute_result"
    }
   ],
   "source": [
    "range(100)"
   ]
  },
  {
   "cell_type": "code",
   "execution_count": 22,
   "id": "2604e55d-6de9-434c-99d6-100213076091",
   "metadata": {},
   "outputs": [
    {
     "data": {
      "text/plain": [
       "range(50, 60)"
      ]
     },
     "execution_count": 22,
     "metadata": {},
     "output_type": "execute_result"
    }
   ],
   "source": [
    "range(50,60)"
   ]
  },
  {
   "cell_type": "markdown",
   "id": "936b451a-af8e-4913-98d3-5378f71a5642",
   "metadata": {},
   "source": [
    "##### passing 3 arguments"
   ]
  },
  {
   "cell_type": "code",
   "execution_count": 23,
   "id": "b762f38d-ca34-48a7-b1bb-d8aa73beb8a3",
   "metadata": {},
   "outputs": [
    {
     "ename": "TypeError",
     "evalue": "'float' object cannot be interpreted as an integer",
     "output_type": "error",
     "traceback": [
      "\u001b[1;31m---------------------------------------------------------------------------\u001b[0m",
      "\u001b[1;31mTypeError\u001b[0m                                 Traceback (most recent call last)",
      "Cell \u001b[1;32mIn[23], line 1\u001b[0m\n\u001b[1;32m----> 1\u001b[0m \u001b[38;5;28mrange\u001b[39m(\u001b[38;5;241m10\u001b[39m,\u001b[38;5;241m100\u001b[39m,\u001b[38;5;241m10.56\u001b[39m)\n",
      "\u001b[1;31mTypeError\u001b[0m: 'float' object cannot be interpreted as an integer"
     ]
    }
   ],
   "source": [
    "range(10,100,10.56) #range work for intnot float"
   ]
  },
  {
   "cell_type": "code",
   "execution_count": 24,
   "id": "78709495-2c25-47ba-a0a1-c2cc46a02dde",
   "metadata": {},
   "outputs": [
    {
     "ename": "TypeError",
     "evalue": "range expected at most 3 arguments, got 5",
     "output_type": "error",
     "traceback": [
      "\u001b[1;31m---------------------------------------------------------------------------\u001b[0m",
      "\u001b[1;31mTypeError\u001b[0m                                 Traceback (most recent call last)",
      "Cell \u001b[1;32mIn[24], line 1\u001b[0m\n\u001b[1;32m----> 1\u001b[0m \u001b[38;5;28mrange\u001b[39m(\u001b[38;5;241m99\u001b[39m,\u001b[38;5;241m78\u001b[39m,\u001b[38;5;241m56\u001b[39m,\u001b[38;5;241m45\u001b[39m,\u001b[38;5;241m34\u001b[39m)\n",
      "\u001b[1;31mTypeError\u001b[0m: range expected at most 3 arguments, got 5"
     ]
    }
   ],
   "source": [
    "range(99,78,56,45,34)#only 3 parameters passed"
   ]
  },
  {
   "cell_type": "code",
   "execution_count": 26,
   "id": "82bc3ae4-6735-4847-a69d-52ef8a939fca",
   "metadata": {},
   "outputs": [
    {
     "name": "stdout",
     "output_type": "stream",
     "text": [
      "0\n",
      "1\n",
      "2\n",
      "3\n",
      "4\n",
      "5\n",
      "6\n",
      "7\n",
      "8\n",
      "9\n",
      "10\n",
      "11\n"
     ]
    }
   ],
   "source": [
    "for i in range(12):\n",
    "    print(i)"
   ]
  },
  {
   "cell_type": "code",
   "execution_count": 28,
   "id": "b5f06c14-bff8-4a8a-afc1-b7035ee6edaa",
   "metadata": {},
   "outputs": [
    {
     "name": "stdout",
     "output_type": "stream",
     "text": [
      "10\n"
     ]
    }
   ],
   "source": [
    "for i in range(10,29,30):\n",
    "    print(i)"
   ]
  },
  {
   "cell_type": "markdown",
   "id": "7a9aca77-88f9-4bc2-8fe6-8853a753d97e",
   "metadata": {},
   "source": [
    "# Basic Operators in Python"
   ]
  },
  {
   "cell_type": "markdown",
   "id": "5d413560-f150-4e31-85c4-0d895c2b8c4e",
   "metadata": {},
   "source": [
    "# Arithmatic Operators"
   ]
  },
  {
   "cell_type": "code",
   "execution_count": 29,
   "id": "8853ef11-560b-40ed-8faf-e89b291097e7",
   "metadata": {},
   "outputs": [
    {
     "data": {
      "text/plain": [
       "2"
      ]
     },
     "execution_count": 29,
     "metadata": {},
     "output_type": "execute_result"
    }
   ],
   "source": [
    "1+1 #addition"
   ]
  },
  {
   "cell_type": "code",
   "execution_count": 30,
   "id": "7cc53e08-87c5-449e-99db-036133d994f2",
   "metadata": {},
   "outputs": [
    {
     "data": {
      "text/plain": [
       "8"
      ]
     },
     "execution_count": 30,
     "metadata": {},
     "output_type": "execute_result"
    }
   ],
   "source": [
    "9-1 #subtraction"
   ]
  },
  {
   "cell_type": "code",
   "execution_count": 31,
   "id": "076cffff-2858-42e8-8dff-7396d651d572",
   "metadata": {},
   "outputs": [
    {
     "data": {
      "text/plain": [
       "40"
      ]
     },
     "execution_count": 31,
     "metadata": {},
     "output_type": "execute_result"
    }
   ],
   "source": [
    "5*8 #multiplication"
   ]
  },
  {
   "cell_type": "code",
   "execution_count": 32,
   "id": "0475edb2-adda-47bb-9772-0c5e96fb26f0",
   "metadata": {},
   "outputs": [
    {
     "data": {
      "text/plain": [
       "1.2"
      ]
     },
     "execution_count": 32,
     "metadata": {},
     "output_type": "execute_result"
    }
   ],
   "source": [
    "6/5 #division"
   ]
  },
  {
   "cell_type": "code",
   "execution_count": 33,
   "id": "dde86116-9f7e-4084-a0e8-6db76edafe46",
   "metadata": {},
   "outputs": [
    {
     "data": {
      "text/plain": [
       "1"
      ]
     },
     "execution_count": 33,
     "metadata": {},
     "output_type": "execute_result"
    }
   ],
   "source": [
    "6//5 #It gives the quotient without the decimal part."
   ]
  },
  {
   "cell_type": "code",
   "execution_count": 34,
   "id": "791c3662-0319-4c4a-acbd-af16bc225fb7",
   "metadata": {},
   "outputs": [
    {
     "data": {
      "text/plain": [
       "9"
      ]
     },
     "execution_count": 34,
     "metadata": {},
     "output_type": "execute_result"
    }
   ],
   "source": [
    "6+4-1"
   ]
  },
  {
   "cell_type": "code",
   "execution_count": 35,
   "id": "5f80bc74-9e86-4039-ab2f-168c76641658",
   "metadata": {},
   "outputs": [
    {
     "ename": "SyntaxError",
     "evalue": "invalid syntax (2218156955.py, line 1)",
     "output_type": "error",
     "traceback": [
      "\u001b[1;36m  Cell \u001b[1;32mIn[35], line 1\u001b[1;36m\u001b[0m\n\u001b[1;33m    6+7+\u001b[0m\n\u001b[1;37m        ^\u001b[0m\n\u001b[1;31mSyntaxError\u001b[0m\u001b[1;31m:\u001b[0m invalid syntax\n"
     ]
    }
   ],
   "source": [
    "6+7+"
   ]
  },
  {
   "cell_type": "code",
   "execution_count": 36,
   "id": "f99ab6d5-1b6b-4eec-86e3-722f068b7228",
   "metadata": {},
   "outputs": [
    {
     "data": {
      "text/plain": [
       "11"
      ]
     },
     "execution_count": 36,
     "metadata": {},
     "output_type": "execute_result"
    }
   ],
   "source": [
    "5+2*3"
   ]
  },
  {
   "cell_type": "code",
   "execution_count": 38,
   "id": "1998bb5e-f5f8-4576-b01a-bf43c87f84bf",
   "metadata": {},
   "outputs": [
    {
     "data": {
      "text/plain": [
       "135"
      ]
     },
     "execution_count": 38,
     "metadata": {},
     "output_type": "execute_result"
    }
   ],
   "source": [
    "(8+7)*9"
   ]
  },
  {
   "cell_type": "code",
   "execution_count": 40,
   "id": "b183cf3e-df01-45d6-bb7e-cfd41b9f8319",
   "metadata": {},
   "outputs": [
    {
     "data": {
      "text/plain": [
       "16"
      ]
     },
     "execution_count": 40,
     "metadata": {},
     "output_type": "execute_result"
    }
   ],
   "source": [
    "2*2*2*2 #2 power 4"
   ]
  },
  {
   "cell_type": "code",
   "execution_count": 41,
   "id": "10d8b039-584d-4072-97e9-87cc4ed48659",
   "metadata": {},
   "outputs": [
    {
     "data": {
      "text/plain": [
       "16"
      ]
     },
     "execution_count": 41,
     "metadata": {},
     "output_type": "execute_result"
    }
   ],
   "source": [
    "2**4 #expoential"
   ]
  },
  {
   "cell_type": "code",
   "execution_count": 43,
   "id": "154071b1-28c2-4657-8ac3-23afe5bd8a75",
   "metadata": {},
   "outputs": [
    {
     "data": {
      "text/plain": [
       "0"
      ]
     },
     "execution_count": 43,
     "metadata": {},
     "output_type": "execute_result"
    }
   ],
   "source": [
    "15%5"
   ]
  },
  {
   "cell_type": "code",
   "execution_count": 44,
   "id": "46f5c495-07fa-4de4-b171-9108fbb614d9",
   "metadata": {},
   "outputs": [
    {
     "data": {
      "text/plain": [
       "-3"
      ]
     },
     "execution_count": 44,
     "metadata": {},
     "output_type": "execute_result"
    }
   ],
   "source": [
    "-10//4"
   ]
  },
  {
   "cell_type": "code",
   "execution_count": 45,
   "id": "e2716788-bbfd-442d-9bc8-eba02954b576",
   "metadata": {},
   "outputs": [
    {
     "ename": "TypeError",
     "evalue": "unsupported operand type(s) for +: 'int' and 'str'",
     "output_type": "error",
     "traceback": [
      "\u001b[1;31m---------------------------------------------------------------------------\u001b[0m",
      "\u001b[1;31mTypeError\u001b[0m                                 Traceback (most recent call last)",
      "Cell \u001b[1;32mIn[45], line 1\u001b[0m\n\u001b[1;32m----> 1\u001b[0m \u001b[38;5;241m4\u001b[39m\u001b[38;5;241m+\u001b[39m\u001b[38;5;124m'\u001b[39m\u001b[38;5;124mpython\u001b[39m\u001b[38;5;124m'\u001b[39m\n",
      "\u001b[1;31mTypeError\u001b[0m: unsupported operand type(s) for +: 'int' and 'str'"
     ]
    }
   ],
   "source": [
    "4+'python'"
   ]
  },
  {
   "cell_type": "code",
   "execution_count": 46,
   "id": "d762d6cf-2145-45fe-9996-814fb5a74f47",
   "metadata": {},
   "outputs": [
    {
     "data": {
      "text/plain": [
       "'pythonpythonpython'"
      ]
     },
     "execution_count": 46,
     "metadata": {},
     "output_type": "execute_result"
    }
   ],
   "source": [
    "3*'python'"
   ]
  },
  {
   "cell_type": "code",
   "execution_count": 48,
   "id": "92fabe5f-327b-4db0-b947-e40dcbb11480",
   "metadata": {},
   "outputs": [
    {
     "data": {
      "text/plain": [
       "' python python python'"
      ]
     },
     "execution_count": 48,
     "metadata": {},
     "output_type": "execute_result"
    }
   ],
   "source": [
    "3*' python'"
   ]
  },
  {
   "cell_type": "code",
   "execution_count": 51,
   "id": "2f5ad0c3-0408-4c72-881c-a4cd8e57ed68",
   "metadata": {},
   "outputs": [
    {
     "name": "stdout",
     "output_type": "stream",
     "text": [
      "12\n",
      "5.7\n",
      "ramya\n",
      "(6+9j)\n",
      "True\n"
     ]
    }
   ],
   "source": [
    "q,r,s,t,u=12,5.7,'ramya',6+9j,True\n",
    "print(q)\n",
    "print(r)\n",
    "print(s)\n",
    "print(t)\n",
    "print(u)"
   ]
  },
  {
   "cell_type": "code",
   "execution_count": 52,
   "id": "303fb3fa-67a5-47af-aa08-5d2f4a7f3c80",
   "metadata": {},
   "outputs": [
    {
     "name": "stdout",
     "output_type": "stream",
     "text": [
      "<class 'int'>\n",
      "<class 'float'>\n",
      "<class 'str'>\n",
      "<class 'complex'>\n",
      "<class 'bool'>\n"
     ]
    }
   ],
   "source": [
    "print(type(q))\n",
    "print(type(r))\n",
    "print(type(s))\n",
    "print(type(t))\n",
    "print(type(u))"
   ]
  },
  {
   "cell_type": "code",
   "execution_count": 53,
   "id": "5b65da5d-26cb-4793-afce-e4ed8d407343",
   "metadata": {},
   "outputs": [
    {
     "data": {
      "text/plain": [
       "str"
      ]
     },
     "execution_count": 53,
     "metadata": {},
     "output_type": "execute_result"
    }
   ],
   "source": [
    "type(s)"
   ]
  },
  {
   "cell_type": "code",
   "execution_count": 54,
   "id": "5be4cc47-3582-4aa5-824a-6608fe4630d9",
   "metadata": {},
   "outputs": [
    {
     "data": {
      "text/plain": [
       "'computer science'"
      ]
     },
     "execution_count": 54,
     "metadata": {},
     "output_type": "execute_result"
    }
   ],
   "source": [
    "'computer science'"
   ]
  },
  {
   "cell_type": "code",
   "execution_count": 56,
   "id": "491a4506-3ae7-4add-95cb-e1e048070d5b",
   "metadata": {},
   "outputs": [
    {
     "name": "stdout",
     "output_type": "stream",
     "text": [
      "computer science\n"
     ]
    }
   ],
   "source": [
    "print('computer science')"
   ]
  },
  {
   "cell_type": "code",
   "execution_count": 58,
   "id": "471ae3dd-5ea2-4082-beb7-57cd9282601e",
   "metadata": {},
   "outputs": [
    {
     "data": {
      "text/plain": [
       "5"
      ]
     },
     "execution_count": 58,
     "metadata": {},
     "output_type": "execute_result"
    }
   ],
   "source": [
    "q=2\n",
    "r=3\n",
    "q+r"
   ]
  },
  {
   "cell_type": "code",
   "execution_count": 60,
   "id": "7225a8b7-1494-4d2a-a711-efcb76ff86a7",
   "metadata": {},
   "outputs": [
    {
     "data": {
      "text/plain": [
       "5"
      ]
     },
     "execution_count": 60,
     "metadata": {},
     "output_type": "execute_result"
    }
   ],
   "source": [
    "s=q+r\n",
    "s"
   ]
  },
  {
   "cell_type": "code",
   "execution_count": 62,
   "id": "2ffa6602-cc5d-471f-9a39-17d6d527e171",
   "metadata": {},
   "outputs": [
    {
     "ename": "TypeError",
     "evalue": "unsupported operand type(s) for +: 'int' and 'str'",
     "output_type": "error",
     "traceback": [
      "\u001b[1;31m---------------------------------------------------------------------------\u001b[0m",
      "\u001b[1;31mTypeError\u001b[0m                                 Traceback (most recent call last)",
      "Cell \u001b[1;32mIn[62], line 3\u001b[0m\n\u001b[0;32m      1\u001b[0m w\u001b[38;5;241m=\u001b[39m\u001b[38;5;241m1\u001b[39m\n\u001b[0;32m      2\u001b[0m x\u001b[38;5;241m=\u001b[39m\u001b[38;5;124m'\u001b[39m\u001b[38;5;124mhello\u001b[39m\u001b[38;5;124m'\u001b[39m\n\u001b[1;32m----> 3\u001b[0m y\u001b[38;5;241m=\u001b[39mw\u001b[38;5;241m+\u001b[39mx\n\u001b[0;32m      4\u001b[0m y\n",
      "\u001b[1;31mTypeError\u001b[0m: unsupported operand type(s) for +: 'int' and 'str'"
     ]
    }
   ],
   "source": [
    "w=1\n",
    "x='hello'\n",
    "y=w+x\n",
    "y"
   ]
  },
  {
   "cell_type": "code",
   "execution_count": 71,
   "id": "3bf526cb-8259-4e6a-b1a7-8a815d71373a",
   "metadata": {},
   "outputs": [
    {
     "name": "stdout",
     "output_type": "stream",
     "text": [
      "computer is'a \"science\"\n"
     ]
    }
   ],
   "source": [
    "print('computer is\\'a \"science\"') #\\' to escape the single quote inside a single-quoted string "
   ]
  },
  {
   "cell_type": "code",
   "execution_count": 88,
   "id": "2d3cd0ef-ba8c-492e-8cb9-287f34478c77",
   "metadata": {},
   "outputs": [
    {
     "name": "stdout",
     "output_type": "stream",
     "text": [
      "computer is a science\n"
     ]
    }
   ],
   "source": [
    "print('computer is' ,'a science')"
   ]
  },
  {
   "cell_type": "code",
   "execution_count": 87,
   "id": "40f8100f-3a13-4882-bb28-aec78d115035",
   "metadata": {},
   "outputs": [
    {
     "name": "stdout",
     "output_type": "stream",
     "text": [
      "computer is a' 'science\n"
     ]
    }
   ],
   "source": [
    "print(\"computer is a' ,'science\")"
   ]
  },
  {
   "cell_type": "code",
   "execution_count": 75,
   "id": "e83b8e81-fee2-4526-a2f6-a929b8e91a45",
   "metadata": {},
   "outputs": [
    {
     "data": {
      "text/plain": [
       "'nitnit'"
      ]
     },
     "execution_count": 75,
     "metadata": {},
     "output_type": "execute_result"
    }
   ],
   "source": [
    "'nit'+'nit'"
   ]
  },
  {
   "cell_type": "code",
   "execution_count": 82,
   "id": "dd354178-842e-4aeb-9eff-1fb5f0749e31",
   "metadata": {},
   "outputs": [
    {
     "data": {
      "text/plain": [
       "'nitnit'"
      ]
     },
     "execution_count": 82,
     "metadata": {},
     "output_type": "execute_result"
    }
   ],
   "source": [
    "'nit'  'nit'"
   ]
  },
  {
   "cell_type": "code",
   "execution_count": 84,
   "id": "9e60f031-caaa-4f0c-b585-2273510da19a",
   "metadata": {},
   "outputs": [
    {
     "data": {
      "text/plain": [
       "'nitnitnitnitnit'"
      ]
     },
     "execution_count": 84,
     "metadata": {},
     "output_type": "execute_result"
    }
   ],
   "source": [
    "5*'nit'"
   ]
  },
  {
   "cell_type": "code",
   "execution_count": 85,
   "id": "cc343eba-d261-41bf-b5cb-286e16a5adf1",
   "metadata": {},
   "outputs": [
    {
     "name": "stdout",
     "output_type": "stream",
     "text": [
      "c:\n",
      "it\n"
     ]
    }
   ],
   "source": [
    "print('c:\\nit') #newline n denotes"
   ]
  },
  {
   "cell_type": "code",
   "execution_count": 106,
   "id": "605f1d57-5c7e-49fc-a9e6-79a3a66d1cff",
   "metadata": {},
   "outputs": [
    {
     "name": "stdout",
     "output_type": "stream",
     "text": [
      "20\n",
      "50\n"
     ]
    }
   ],
   "source": [
    "q,r= 20,50 #assign variable in one line\n",
    "print(q)\n",
    "print(r)"
   ]
  },
  {
   "cell_type": "code",
   "execution_count": 107,
   "id": "e600f13f-dcb0-45f8-a56e-ab9a1b8b754a",
   "metadata": {},
   "outputs": [
    {
     "name": "stdout",
     "output_type": "stream",
     "text": [
      "20\n",
      "10\n"
     ]
    }
   ],
   "source": [
    "q=20\n",
    "r=10\n",
    "print(q)\n",
    "print(r)"
   ]
  },
  {
   "cell_type": "markdown",
   "id": "85c9c133-9476-4a7e-a8ba-0f419727de86",
   "metadata": {},
   "source": [
    "# Unary operator"
   ]
  },
  {
   "cell_type": "code",
   "execution_count": 108,
   "id": "c0100250-8999-4715-b4ba-f3e0224d1825",
   "metadata": {},
   "outputs": [
    {
     "data": {
      "text/plain": [
       "5"
      ]
     },
     "execution_count": 108,
     "metadata": {},
     "output_type": "execute_result"
    }
   ],
   "source": [
    "u=5\n",
    "u"
   ]
  },
  {
   "cell_type": "code",
   "execution_count": 110,
   "id": "a9cc0734-fc3c-454a-b2e9-d7930c0bb1d1",
   "metadata": {},
   "outputs": [
    {
     "data": {
      "text/plain": [
       "-5"
      ]
     },
     "execution_count": 110,
     "metadata": {},
     "output_type": "execute_result"
    }
   ],
   "source": [
    "t = -(u)  #negitive\n",
    "t"
   ]
  },
  {
   "cell_type": "code",
   "execution_count": 111,
   "id": "31cba6c1-1d48-43d0-ac0e-32e8b5c543ed",
   "metadata": {},
   "outputs": [
    {
     "data": {
      "text/plain": [
       "5"
      ]
     },
     "execution_count": 111,
     "metadata": {},
     "output_type": "execute_result"
    }
   ],
   "source": [
    "t = --(u) #double negitive\n",
    "t"
   ]
  },
  {
   "cell_type": "code",
   "execution_count": 112,
   "id": "1a5fec0c-dcc1-4e7f-88f1-39dd46cf9c1e",
   "metadata": {},
   "outputs": [
    {
     "data": {
      "text/plain": [
       "5"
      ]
     },
     "execution_count": 112,
     "metadata": {},
     "output_type": "execute_result"
    }
   ],
   "source": [
    "t"
   ]
  },
  {
   "cell_type": "code",
   "execution_count": 113,
   "id": "fef17b1d-0efe-4b30-acb3-16a4e264024c",
   "metadata": {},
   "outputs": [
    {
     "data": {
      "text/plain": [
       "-5"
      ]
     },
     "execution_count": 113,
     "metadata": {},
     "output_type": "execute_result"
    }
   ],
   "source": [
    "-t"
   ]
  },
  {
   "cell_type": "markdown",
   "id": "e9cf131a-f298-4528-b77c-2806b78706d3",
   "metadata": {},
   "source": [
    "# Relational operator"
   ]
  },
  {
   "cell_type": "code",
   "execution_count": 114,
   "id": "792f69c0-7d2a-41a9-b6ae-0d3b7f07d0dc",
   "metadata": {},
   "outputs": [
    {
     "data": {
      "text/plain": [
       "True"
      ]
     },
     "execution_count": 114,
     "metadata": {},
     "output_type": "execute_result"
    }
   ],
   "source": [
    "s = 10 #greater than\n",
    "t = 4\n",
    "s > t"
   ]
  },
  {
   "cell_type": "code",
   "execution_count": 115,
   "id": "e7dc9f56-aed4-48b0-b96d-6cbc6bd3b2b1",
   "metadata": {},
   "outputs": [
    {
     "data": {
      "text/plain": [
       "False"
      ]
     },
     "execution_count": 115,
     "metadata": {},
     "output_type": "execute_result"
    }
   ],
   "source": [
    "s<t #lessthan"
   ]
  },
  {
   "cell_type": "code",
   "execution_count": 116,
   "id": "a5a1e30d-7c55-4236-8217-92041f43d9a5",
   "metadata": {},
   "outputs": [
    {
     "data": {
      "text/plain": [
       "True"
      ]
     },
     "execution_count": 116,
     "metadata": {},
     "output_type": "execute_result"
    }
   ],
   "source": [
    "s>=t #greaterthan equal to"
   ]
  },
  {
   "cell_type": "code",
   "execution_count": 117,
   "id": "e5cccebc-c269-4a13-81ac-b07fab16fd5e",
   "metadata": {},
   "outputs": [
    {
     "data": {
      "text/plain": [
       "False"
      ]
     },
     "execution_count": 117,
     "metadata": {},
     "output_type": "execute_result"
    }
   ],
   "source": [
    "s<=t #lessthan equal to"
   ]
  },
  {
   "cell_type": "code",
   "execution_count": 118,
   "id": "c1f7b23e-ecd5-41a1-9465-4658bfc572ae",
   "metadata": {},
   "outputs": [
    {
     "data": {
      "text/plain": [
       "True"
      ]
     },
     "execution_count": 118,
     "metadata": {},
     "output_type": "execute_result"
    }
   ],
   "source": [
    "s !=t #not equal to"
   ]
  },
  {
   "cell_type": "code",
   "execution_count": 119,
   "id": "a8f38ece-7103-4b2c-892f-7f1f0d4da88d",
   "metadata": {},
   "outputs": [
    {
     "data": {
      "text/plain": [
       "False"
      ]
     },
     "execution_count": 119,
     "metadata": {},
     "output_type": "execute_result"
    }
   ],
   "source": [
    "s==t #equal to"
   ]
  },
  {
   "cell_type": "code",
   "execution_count": 121,
   "id": "9f9e3009-13ff-4635-8775-659b94506077",
   "metadata": {},
   "outputs": [
    {
     "data": {
      "text/plain": [
       "True"
      ]
     },
     "execution_count": 121,
     "metadata": {},
     "output_type": "execute_result"
    }
   ],
   "source": [
    "d=5\n",
    "e=5\n",
    "d==e"
   ]
  },
  {
   "cell_type": "markdown",
   "id": "38e73c07-b0b7-4614-b80b-6476daec229a",
   "metadata": {},
   "source": [
    "# Logical operator"
   ]
  },
  {
   "cell_type": "code",
   "execution_count": 122,
   "id": "3608fd25-6ef4-4066-ae15-71f7de1e9e49",
   "metadata": {},
   "outputs": [
    {
     "data": {
      "text/plain": [
       "True"
      ]
     },
     "execution_count": 122,
     "metadata": {},
     "output_type": "execute_result"
    }
   ],
   "source": [
    "z = 10 #and\n",
    "x = 4\n",
    "z < 15 and x < 6\n"
   ]
  },
  {
   "cell_type": "code",
   "execution_count": 123,
   "id": "e331b948-aadd-4359-a8bf-f75f5a8732fc",
   "metadata": {},
   "outputs": [
    {
     "data": {
      "text/plain": [
       "False"
      ]
     },
     "execution_count": 123,
     "metadata": {},
     "output_type": "execute_result"
    }
   ],
   "source": [
    "z>15 and x>6 #both conditions should be true ,is true,therwise false"
   ]
  },
  {
   "cell_type": "code",
   "execution_count": 128,
   "id": "34588659-9d24-4ff8-a772-b09abda84b4f",
   "metadata": {},
   "outputs": [
    {
     "data": {
      "text/plain": [
       "True"
      ]
     },
     "execution_count": 128,
     "metadata": {},
     "output_type": "execute_result"
    }
   ],
   "source": [
    "z < 20 or x < 8"
   ]
  },
  {
   "cell_type": "code",
   "execution_count": 129,
   "id": "0c399352-81c4-4a51-b261-4e07f5208049",
   "metadata": {},
   "outputs": [
    {
     "data": {
      "text/plain": [
       "False"
      ]
     },
     "execution_count": 129,
     "metadata": {},
     "output_type": "execute_result"
    }
   ],
   "source": [
    "z > 15 or x > 6 #gives at least 1 condition is true is true,otherwise false"
   ]
  },
  {
   "cell_type": "code",
   "execution_count": 130,
   "id": "5aa9589e-1097-4470-ac3b-38273a6bf212",
   "metadata": {},
   "outputs": [
    {
     "data": {
      "text/plain": [
       "False"
      ]
     },
     "execution_count": 130,
     "metadata": {},
     "output_type": "execute_result"
    }
   ],
   "source": [
    "not z #reverse the operation(true is false,false is true)"
   ]
  },
  {
   "cell_type": "code",
   "execution_count": 131,
   "id": "0b8f71ab-7bf9-4a4d-aa12-ec93ee2f7f94",
   "metadata": {},
   "outputs": [
    {
     "data": {
      "text/plain": [
       "False"
      ]
     },
     "execution_count": 131,
     "metadata": {},
     "output_type": "execute_result"
    }
   ],
   "source": [
    "z = not z\n",
    "z"
   ]
  },
  {
   "cell_type": "markdown",
   "id": "284caece-7df3-4afd-8674-ba5241189acf",
   "metadata": {},
   "source": [
    "  # Bitwise operator"
   ]
  },
  {
   "cell_type": "code",
   "execution_count": 132,
   "id": "db501819-3a6f-45fe-8dc2-173b57c78edb",
   "metadata": {},
   "outputs": [
    {
     "data": {
      "text/plain": [
       "-16"
      ]
     },
     "execution_count": 132,
     "metadata": {},
     "output_type": "execute_result"
    }
   ],
   "source": [
    "~15 #compliment"
   ]
  },
  {
   "cell_type": "code",
   "execution_count": 133,
   "id": "e0e54600-2efb-460d-aac2-f8679262d9c2",
   "metadata": {},
   "outputs": [
    {
     "data": {
      "text/plain": [
       "-90"
      ]
     },
     "execution_count": 133,
     "metadata": {},
     "output_type": "execute_result"
    }
   ],
   "source": [
    "~89 #gives -ve value"
   ]
  },
  {
   "cell_type": "code",
   "execution_count": 134,
   "id": "feeef8c7-3fc2-4e7b-a2bd-9785d524601a",
   "metadata": {},
   "outputs": [
    {
     "data": {
      "text/plain": [
       "69"
      ]
     },
     "execution_count": 134,
     "metadata": {},
     "output_type": "execute_result"
    }
   ],
   "source": [
    "87 & 69"
   ]
  },
  {
   "cell_type": "code",
   "execution_count": 135,
   "id": "9faf5a2e-96e9-455a-97a5-da7b3c2ff6c5",
   "metadata": {},
   "outputs": [
    {
     "data": {
      "text/plain": [
       "87"
      ]
     },
     "execution_count": 135,
     "metadata": {},
     "output_type": "execute_result"
    }
   ],
   "source": [
    "87 | 69"
   ]
  },
  {
   "cell_type": "code",
   "execution_count": 136,
   "id": "3f6a1d9b-d386-4fdc-b1c7-ef45f778b641",
   "metadata": {},
   "outputs": [
    {
     "data": {
      "text/plain": [
       "0"
      ]
     },
     "execution_count": 136,
     "metadata": {},
     "output_type": "execute_result"
    }
   ],
   "source": [
    "1 & 0"
   ]
  },
  {
   "cell_type": "code",
   "execution_count": 137,
   "id": "611c9256-b5d1-4cf2-b7e8-247147440d37",
   "metadata": {},
   "outputs": [
    {
     "data": {
      "text/plain": [
       "1"
      ]
     },
     "execution_count": 137,
     "metadata": {},
     "output_type": "execute_result"
    }
   ],
   "source": [
    "1 | 0"
   ]
  },
  {
   "cell_type": "code",
   "execution_count": 138,
   "id": "806149de-33ed-4895-a778-bf1e5beb149a",
   "metadata": {},
   "outputs": [
    {
     "data": {
      "text/plain": [
       "52"
      ]
     },
     "execution_count": 138,
     "metadata": {},
     "output_type": "execute_result"
    }
   ],
   "source": [
    "22 ^ 34 #xor sets each bit to 1 if only one is 1"
   ]
  },
  {
   "cell_type": "code",
   "execution_count": 140,
   "id": "0a764571-dfac-4419-b334-3cf118e4bb41",
   "metadata": {},
   "outputs": [
    {
     "data": {
      "text/plain": [
       "40"
      ]
     },
     "execution_count": 140,
     "metadata": {},
     "output_type": "execute_result"
    }
   ],
   "source": [
    "10 << 2 # <<left shift,shifts bits to the left multiply by 2"
   ]
  },
  {
   "cell_type": "code",
   "execution_count": 141,
   "id": "af5fed83-63a5-46cb-8b8e-51f06008e633",
   "metadata": {},
   "outputs": [
    {
     "data": {
      "text/plain": [
       "2"
      ]
     },
     "execution_count": 141,
     "metadata": {},
     "output_type": "execute_result"
    }
   ],
   "source": [
    "10 >> 2 # >>right shift,shifts bits to the right divided by 2"
   ]
  },
  {
   "cell_type": "code",
   "execution_count": null,
   "id": "09c43c9b-b943-4971-817c-44ba03865509",
   "metadata": {},
   "outputs": [],
   "source": []
  }
 ],
 "metadata": {
  "kernelspec": {
   "display_name": "Python [conda env:base] *",
   "language": "python",
   "name": "conda-base-py"
  },
  "language_info": {
   "codemirror_mode": {
    "name": "ipython",
    "version": 3
   },
   "file_extension": ".py",
   "mimetype": "text/x-python",
   "name": "python",
   "nbconvert_exporter": "python",
   "pygments_lexer": "ipython3",
   "version": "3.12.7"
  }
 },
 "nbformat": 4,
 "nbformat_minor": 5
}
